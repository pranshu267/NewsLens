{
  "nbformat": 4,
  "nbformat_minor": 0,
  "metadata": {
    "colab": {
      "provenance": []
    },
    "kernelspec": {
      "name": "python3",
      "display_name": "Python 3"
    },
    "language_info": {
      "name": "python"
    }
  },
  "cells": [
    {
      "cell_type": "code",
      "execution_count": 3,
      "metadata": {
        "id": "rnAaH2Damf70"
      },
      "outputs": [],
      "source": [
        "from io import BytesIO\n",
        "import IPython\n",
        "import json\n",
        "import os\n",
        "from PIL import Image\n",
        "import requests\n",
        "import time\n",
        "from google.colab import output"
      ]
    },
    {
      "cell_type": "code",
      "source": [
        "STABILITY_KEY = ''\n",
        "\n",
        "def send_generation_request(\n",
        "    host,\n",
        "    params,\n",
        "):\n",
        "    headers = {\n",
        "        \"Accept\": \"image/*\",\n",
        "        \"Authorization\": f\"Bearer {STABILITY_KEY}\"\n",
        "    }\n",
        "\n",
        "    # Encode parameters\n",
        "    files = {}\n",
        "    image = params.pop(\"image\", None)\n",
        "    mask = params.pop(\"mask\", None)\n",
        "    if image is not None and image != '':\n",
        "        files[\"image\"] = open(image, 'rb')\n",
        "    if mask is not None and mask != '':\n",
        "        files[\"mask\"] = open(mask, 'rb')\n",
        "    if len(files)==0:\n",
        "        files[\"none\"] = ''\n",
        "\n",
        "    # Send request\n",
        "    print(f\"Sending REST request to {host}...\")\n",
        "    response = requests.post(\n",
        "        host,\n",
        "        headers=headers,\n",
        "        files=files,\n",
        "        data=params\n",
        "    )\n",
        "    if not response.ok:\n",
        "        raise Exception(f\"HTTP {response.status_code}: {response.text}\")\n",
        "\n",
        "    return response"
      ],
      "metadata": {
        "id": "N0TkLNkDmmCf"
      },
      "execution_count": 4,
      "outputs": []
    },
    {
      "cell_type": "code",
      "source": [
        "prompt ='''Generate a suitable image for the following news article :\n",
        "          <news article>\n",
        "          '''\n",
        "aspect_ratio = \"1:1\"\n",
        "seed = 0\n",
        "output_format = \"jpeg\"\n",
        "\n",
        "host = f\"https://api.stability.ai/v2beta/stable-image/generate/sd3\"\n",
        "\n",
        "params = {\n",
        "    \"prompt\" : prompt,\n",
        "    \"aspect_ratio\" : aspect_ratio,\n",
        "    \"seed\" : seed,\n",
        "    \"output_format\" : output_format,\n",
        "    \"model\" : \"sd3-turbo\"\n",
        "}\n",
        "\n",
        "response = send_generation_request(\n",
        "    host,\n",
        "    params\n",
        ")\n",
        "\n",
        "\n",
        "output_image = response.content\n",
        "finish_reason = response.headers.get(\"finish-reason\")\n",
        "seed = response.headers.get(\"seed\")\n",
        "\n",
        "\n",
        "if finish_reason == 'CONTENT_FILTERED':\n",
        "    raise Warning(\"Generation failed NSFW classifier\")\n",
        "\n",
        "\n",
        "generated = f\"generated_{seed}.{output_format}\"\n",
        "with open(generated, \"wb\") as f:\n",
        "    f.write(output_image)\n",
        "print(f\"Saved image {generated}\")\n",
        "\n",
        "output.no_vertical_scroll()\n",
        "print(\"Result image:\")\n",
        "IPython.display.display(Image.open(generated))"
      ],
      "metadata": {
        "id": "tUKVmT6tmo3_"
      },
      "execution_count": null,
      "outputs": []
    },
    {
      "cell_type": "code",
      "source": [],
      "metadata": {
        "id": "Uf1r5iWjoeNX"
      },
      "execution_count": null,
      "outputs": []
    }
  ]
}