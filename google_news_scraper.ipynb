{
 "cells": [
  {
   "cell_type": "code",
   "execution_count": 73,
   "id": "78ce1bef-c385-42e3-b179-05f8374e3cbb",
   "metadata": {},
   "outputs": [],
   "source": [
    "from gnews import GNews\n",
    "import newspaper\n",
    "from newspaper import Article\n",
    "from newspaper import Config\n",
    "import pandas as pd\n",
    "import re\n",
    "from html import unescape\n",
    "\n",
    "user_agent = 'Mozilla/5.0 (Macintosh; Intel Mac OS X 10_11_5) AppleWebKit/537.36 (KHTML, like Gecko) Chrome/50.0.2661.102 Safari/537.36'\n",
    "config = Config()\n",
    "config.browser_user_agent = user_agent"
   ]
  },
  {
   "cell_type": "code",
   "execution_count": 57,
   "id": "9853cee0-c0fc-43a5-bfd1-4e6325347b5d",
   "metadata": {},
   "outputs": [],
   "source": [
    "google_news = GNews(language='en', period='14d', max_results=500000)"
   ]
  },
  {
   "cell_type": "code",
   "execution_count": 58,
   "id": "2430acf5-e03c-448b-9bc2-5c56ed1f9276",
   "metadata": {},
   "outputs": [],
   "source": [
    "topics = [\"WORLD\", \"NATION\", \"BUSINESS\", \"TECHNOLOGY\", \"ENTERTAINMENT\", \"SPORTS\", \"SCIENCE\", \"HEALTH\"]"
   ]
  },
  {
   "cell_type": "code",
   "execution_count": 59,
   "id": "11fde22c-087a-46ec-851f-ea4fd85627ad",
   "metadata": {
    "scrolled": true
   },
   "outputs": [
    {
     "name": "stdout",
     "output_type": "stream",
     "text": [
      "1, 2, 3, 4, 5, 6, 7, 8, 9, 10, 11, An error occurred while fetching the article: Article `download()` failed with 403 Client Error: Forbidden for url: https://www.axios.com/2024/05/09/israel-fire-palestinian-aid-refugee-jerusalem on URL https://news.google.com/rss/articles/CBMiTmh0dHBzOi8vd3d3LmF4aW9zLmNvbS8yMDI0LzA1LzA5L2lzcmFlbC1maXJlLXBhbGVzdGluaWFuLWFpZC1yZWZ1Z2VlLWplcnVzYWxlbdIBAA?oc=5&hl=en-US&gl=US&ceid=US:en\n",
      "12, An error occurred while fetching the article: Article `download()` failed with 403 Client Error: Max restarts limit reached for url: https://www.forbes.com/sites/davidaxe/2024/05/09/a-ukrainian-sport-plane-drone-just-flew-800-miles-into-russia-to-blow-up-an-oil-refinery/ on URL https://news.google.com/rss/articles/CBMiigFodHRwczovL3d3dy5mb3JiZXMuY29tL3NpdGVzL2RhdmlkYXhlLzIwMjQvMDUvMDkvYS11a3JhaW5pYW4tc3BvcnQtcGxhbmUtZHJvbmUtanVzdC1mbGV3LTgwMC1taWxlcy1pbnRvLXJ1c3NpYS10by1ibG93LXVwLWFuLW9pbC1yZWZpbmVyeS_SAQA?oc=5&hl=en-US&gl=US&ceid=US:en\n",
      "13, An error occurred while fetching the article: Article `download()` failed with 403 Client Error: Forbidden for url: https://www.axios.com/2024/05/10/israel-gaza-us-weapons-congress-report-blinken on URL https://news.google.com/rss/articles/CBMiT2h0dHBzOi8vd3d3LmF4aW9zLmNvbS8yMDI0LzA1LzEwL2lzcmFlbC1nYXphLXVzLXdlYXBvbnMtY29uZ3Jlc3MtcmVwb3J0LWJsaW5rZW7SAQA?oc=5&hl=en-US&gl=US&ceid=US:en\n",
      "14, An error occurred while fetching the article: Article `download()` failed with 429 Client Error: Unknown Error for url: https://thehill.com/policy/defense/4654941-fbi-warns-of-efforts-by-china-russia-iran-to-influence-election/ on URL https://news.google.com/rss/articles/CBMia2h0dHBzOi8vdGhlaGlsbC5jb20vcG9saWN5L2RlZmVuc2UvNDY1NDk0MS1mYmktd2FybnMtb2YtZWZmb3J0cy1ieS1jaGluYS1ydXNzaWEtaXJhbi10by1pbmZsdWVuY2UtZWxlY3Rpb24v0gFvaHR0cHM6Ly90aGVoaWxsLmNvbS9wb2xpY3kvZGVmZW5zZS80NjU0OTQxLWZiaS13YXJucy1vZi1lZmZvcnRzLWJ5LWNoaW5hLXJ1c3NpYS1pcmFuLXRvLWluZmx1ZW5jZS1lbGVjdGlvbi9hbXAv?oc=5&hl=en-US&gl=US&ceid=US:en\n",
      "15, 16, 17, An error occurred while fetching the article: Article `download()` failed with 403 Client Error: Forbidden for url: https://www.politico.com/news/2024/05/09/israel-hamas-hostage-deal-talks-are-paused-amid-ongoing-rafah-fighting-00157059 on URL https://news.google.com/rss/articles/CBMieGh0dHBzOi8vd3d3LnBvbGl0aWNvLmNvbS9uZXdzLzIwMjQvMDUvMDkvaXNyYWVsLWhhbWFzLWhvc3RhZ2UtZGVhbC10YWxrcy1hcmUtcGF1c2VkLWFtaWQtb25nb2luZy1yYWZhaC1maWdodGluZy0wMDE1NzA1OdIBAA?oc=5&hl=en-US&gl=US&ceid=US:en\n",
      "18, 19, 20, 21, 22, 23, 24, 25, 26, 27, 28, 29, An error occurred while fetching the article: Article `download()` failed with 403 Client Error: Forbidden for url: https://www.politico.com/news/2024/05/09/florida-a-m-backs-away-from-dubious-237m-donation-00157234 on URL https://news.google.com/rss/articles/CBMiY2h0dHBzOi8vd3d3LnBvbGl0aWNvLmNvbS9uZXdzLzIwMjQvMDUvMDkvZmxvcmlkYS1hLW0tYmFja3MtYXdheS1mcm9tLWR1YmlvdXMtMjM3bS1kb25hdGlvbi0wMDE1NzIzNNIBAA?oc=5&hl=en-US&gl=US&ceid=US:en\n",
      "30, 31, 32, 33, 34, 35, 36, An error occurred while fetching the article: Article `download()` failed with 429 Client Error: Unknown Error for url: https://ktla.com/news/local-news/son-of-beloved-burbank-teacher-charged-with-her-murder/ on URL https://news.google.com/rss/articles/CBMiWGh0dHBzOi8va3RsYS5jb20vbmV3cy9sb2NhbC1uZXdzL3Nvbi1vZi1iZWxvdmVkLWJ1cmJhbmstdGVhY2hlci1jaGFyZ2VkLXdpdGgtaGVyLW11cmRlci_SAVxodHRwczovL2t0bGEuY29tL25ld3MvbG9jYWwtbmV3cy9zb24tb2YtYmVsb3ZlZC1idXJiYW5rLXRlYWNoZXItY2hhcmdlZC13aXRoLWhlci1tdXJkZXIvYW1wLw?oc=5&hl=en-US&gl=US&ceid=US:en\n",
      "37, 38, 39, 40, 41, 42, 43, 44, An error occurred while fetching the article: Article `download()` failed with 403 Client Error: Forbidden for url: https://www.politico.com/news/2024/05/09/trump-asks-oil-executives-campaign-finance-00157131 on URL https://news.google.com/rss/articles/CBMiXGh0dHBzOi8vd3d3LnBvbGl0aWNvLmNvbS9uZXdzLzIwMjQvMDUvMDkvdHJ1bXAtYXNrcy1vaWwtZXhlY3V0aXZlcy1jYW1wYWlnbi1maW5hbmNlLTAwMTU3MTMx0gEA?oc=5&hl=en-US&gl=US&ceid=US:en\n",
      "45, 46, 47, 48, 49, 50, 51, 52, An error occurred while fetching the article: Article `download()` failed with 403 Client Error: Forbidden for url: https://www.sfgate.com/travel/article/california-real-id-deadline-19449053.php on URL https://news.google.com/rss/articles/CBMiTmh0dHBzOi8vd3d3LnNmZ2F0ZS5jb20vdHJhdmVsL2FydGljbGUvY2FsaWZvcm5pYS1yZWFsLWlkLWRlYWRsaW5lLTE5NDQ5MDUzLnBocNIBAA?oc=5&hl=en-US&gl=US&ceid=US:en\n",
      "53, 54, 55, 56, 57, 58, 59, 60, An error occurred while fetching the article: Article `download()` failed with 429 Client Error: Unknown Error for url: https://www.krqe.com/news/crime/family-speaks-after-woman-shot-in-the-neck-at-albuquerque-graduation-ceremony/ on URL https://news.google.com/rss/articles/CBMibmh0dHBzOi8vd3d3LmtycWUuY29tL25ld3MvY3JpbWUvZmFtaWx5LXNwZWFrcy1hZnRlci13b21hbi1zaG90LWluLXRoZS1uZWNrLWF0LWFsYnVxdWVycXVlLWdyYWR1YXRpb24tY2VyZW1vbnkv0gFyaHR0cHM6Ly93d3cua3JxZS5jb20vbmV3cy9jcmltZS9mYW1pbHktc3BlYWtzLWFmdGVyLXdvbWFuLXNob3QtaW4tdGhlLW5lY2stYXQtYWxidXF1ZXJxdWUtZ3JhZHVhdGlvbi1jZXJlbW9ueS9hbXAv?oc=5&hl=en-US&gl=US&ceid=US:en\n",
      "61, 62, 63, 64, 65, 66, 67, An error occurred while fetching the article: Article `download()` failed with 403 Client Error: Forbidden for url: https://www.sfgate.com/bayarea/article/sacramento-zoo-leaving-sacramento-19448885.php on URL https://news.google.com/rss/articles/CBMiVWh0dHBzOi8vd3d3LnNmZ2F0ZS5jb20vYmF5YXJlYS9hcnRpY2xlL3NhY3JhbWVudG8tem9vLWxlYXZpbmctc2FjcmFtZW50by0xOTQ0ODg4NS5waHDSAQA?oc=5&hl=en-US&gl=US&ceid=US:en\n",
      "68, 69, 70, 71, An error occurred while fetching the article: Article `download()` failed with HTTPSConnectionPool(host='www.charlotteobserver.com', port=443): Read timed out. (read timeout=7) on URL https://news.google.com/rss/articles/CBMiSWh0dHBzOi8vd3d3LmNoYXJsb3R0ZW9ic2VydmVyLmNvbS9uZXdzL3dlYXRoZXItbmV3cy9hcnRpY2xlMjg4NDMzOTE1Lmh0bWzSAUlodHRwczovL2FtcC5jaGFybG90dGVvYnNlcnZlci5jb20vbmV3cy93ZWF0aGVyLW5ld3MvYXJ0aWNsZTI4ODQzMzkxNS5odG1s?oc=5&hl=en-US&gl=US&ceid=US:en\n",
      "72, 73, 74, 75, 76, 77, 78, 79, 80, 81, 82, 83, 84, 85, 86, 87, 88, 89, An error occurred while fetching the article: Article `download()` failed with 403 Client Error: Forbidden for url: https://www.newsweek.com/fani-willis-case-might-not-derailed-after-all-1898850 on URL https://news.google.com/rss/articles/CBMiTmh0dHBzOi8vd3d3Lm5ld3N3ZWVrLmNvbS9mYW5pLXdpbGxpcy1jYXNlLW1pZ2h0LW5vdC1kZXJhaWxlZC1hZnRlci1hbGwtMTg5ODg1MNIBAA?oc=5&hl=en-US&gl=US&ceid=US:en\n",
      "90, 91, 92, 93, 94, An error occurred while fetching the article: Article `download()` failed with 403 Client Error: Forbidden for url: https://www.politico.com/news/2024/05/08/biden-trump-2024-elections-00156853 on URL https://news.google.com/rss/articles/CBMiTGh0dHBzOi8vd3d3LnBvbGl0aWNvLmNvbS9uZXdzLzIwMjQvMDUvMDgvYmlkZW4tdHJ1bXAtMjAyNC1lbGVjdGlvbnMtMDAxNTY4NTPSAQA?oc=5&hl=en-US&gl=US&ceid=US:en\n",
      "95, An error occurred while fetching the article: Article `download()` failed with HTTPSConnectionPool(host='www.sacbee.com', port=443): Read timed out. (read timeout=7) on URL https://news.google.com/rss/articles/CBMiR2h0dHBzOi8vd3d3LnNhY2JlZS5jb20vbmV3cy9uYXRpb24td29ybGQvbmF0aW9uYWwvYXJ0aWNsZTI4ODQzNDgyMy5odG1s0gFHaHR0cHM6Ly9hbXAuc2FjYmVlLmNvbS9uZXdzL25hdGlvbi13b3JsZC9uYXRpb25hbC9hcnRpY2xlMjg4NDM0ODIzLmh0bWw?oc=5&hl=en-US&gl=US&ceid=US:en\n",
      "96, 97, 98, 99, 100, 101, 102, 103, 104, 105, 106, 107, 108, An error occurred while fetching the article: Article `download()` failed with 401 Client Error: HTTP Forbidden for url: https://www.reuters.com/markets/us/us-weekly-jobless-claims-increase-more-than-expected-2024-05-09/ on URL https://news.google.com/rss/articles/CBMiY2h0dHBzOi8vd3d3LnJldXRlcnMuY29tL21hcmtldHMvdXMvdXMtd2Vla2x5LWpvYmxlc3MtY2xhaW1zLWluY3JlYXNlLW1vcmUtdGhhbi1leHBlY3RlZC0yMDI0LTA1LTA5L9IBAA?oc=5&hl=en-US&gl=US&ceid=US:en\n",
      "109, 110, An error occurred while fetching the article: Article `download()` failed with 403 Client Error: Forbidden for url: https://www.thestreet.com/investing/stocks/analyst-adjusts-nvidia-stock-target-price-ahead-of-earnings on URL https://news.google.com/rss/articles/CBMiZmh0dHBzOi8vd3d3LnRoZXN0cmVldC5jb20vaW52ZXN0aW5nL3N0b2Nrcy9hbmFseXN0LWFkanVzdHMtbnZpZGlhLXN0b2NrLXRhcmdldC1wcmljZS1haGVhZC1vZi1lYXJuaW5nc9IBAA?oc=5&hl=en-US&gl=US&ceid=US:en\n",
      "111, 112, 113, 114, 115, 116, 117, 118, An error occurred while fetching the article: Article `download()` failed with 401 Client Error: HTTP Forbidden for url: https://www.reuters.com/technology/roblox-cuts-annual-bookings-forecast-muted-player-spending-2024-05-09/ on URL https://news.google.com/rss/articles/CBMiaWh0dHBzOi8vd3d3LnJldXRlcnMuY29tL3RlY2hub2xvZ3kvcm9ibG94LWN1dHMtYW5udWFsLWJvb2tpbmdzLWZvcmVjYXN0LW11dGVkLXBsYXllci1zcGVuZGluZy0yMDI0LTA1LTA5L9IBAA?oc=5&hl=en-US&gl=US&ceid=US:en\n",
      "119, 120, 121, An error occurred while fetching the article: Article `download()` failed with 403 Client Error: Forbidden for url: https://www.thestreet.com/investing/stocks/tesla-woes-mount-on-new-china-reports-ev-probe on URL https://news.google.com/rss/articles/CBMiWWh0dHBzOi8vd3d3LnRoZXN0cmVldC5jb20vaW52ZXN0aW5nL3N0b2Nrcy90ZXNsYS13b2VzLW1vdW50LW9uLW5ldy1jaGluYS1yZXBvcnRzLWV2LXByb2Jl0gEA?oc=5&hl=en-US&gl=US&ceid=US:en\n",
      "122, 123, 124, 125, 126, 127, 128, 129, 130, 131, 132, An error occurred while fetching the article: Article `download()` failed with 403 Client Error: Forbidden for url: https://www.axios.com/2024/05/09/target-pride-month-collection-2024 on URL https://news.google.com/rss/articles/CBMiQ2h0dHBzOi8vd3d3LmF4aW9zLmNvbS8yMDI0LzA1LzA5L3RhcmdldC1wcmlkZS1tb250aC1jb2xsZWN0aW9uLTIwMjTSAQA?oc=5&hl=en-US&gl=US&ceid=US:en\n",
      "133, 134, 135, 136, 137, An error occurred while fetching the article: Article `download()` failed with 403 Client Error: Forbidden for url: https://www.thestreet.com/investing/stocks/will-stocks-set-record-gains-during-a-fed-interest-rate-pause on URL https://news.google.com/rss/articles/CBMiaGh0dHBzOi8vd3d3LnRoZXN0cmVldC5jb20vaW52ZXN0aW5nL3N0b2Nrcy93aWxsLXN0b2Nrcy1zZXQtcmVjb3JkLWdhaW5zLWR1cmluZy1hLWZlZC1pbnRlcmVzdC1yYXRlLXBhdXNl0gEA?oc=5&hl=en-US&gl=US&ceid=US:en\n",
      "138, 139, 140, 141, 142, 143, 144, 145, 146, 147, 148, 149, 150, 151, 152, 153, 154, 155, 156, 157, 158, 159, 160, 161, 162, 163, 164, 165, 166, 167, 168, 169, 170, 171, 172, 173, 174, 175, 176, 177, 178, 179, 180, 181, 182, 183, 184, 185, 186, 187, 188, An error occurred while fetching the article: Article `download()` failed with 403 Client Error: Forbidden for url: https://eurovision.tv/story/eurovision-2024-final-running-order on URL https://news.google.com/rss/articles/CBMiP2h0dHBzOi8vZXVyb3Zpc2lvbi50di9zdG9yeS9ldXJvdmlzaW9uLTIwMjQtZmluYWwtcnVubmluZy1vcmRlctIBAA?oc=5&hl=en-US&gl=US&ceid=US:en\n",
      "189, 190, 191, 192, 193, 194, 195, 196, 197, 198, 199, 200, 201, 202, 203, 204, 205, 206, 207, 208, 209, 210, 211, 212, 213, 214, 215, 216, 217, 218, 219, 220, 221, 222, 223, 224, 225, 226, 227, 228, 229, 230, 231, 232, 233, 234, 235, 236, 237, 238, 239, 240, 241, 242, 243, 244, "
     ]
    },
    {
     "name": "stderr",
     "output_type": "stream",
     "text": [
      "05/10/2024 12:28:01 AM - newspaper ignoring lxml node error: Input object is not an XML element: HtmlProcessingInstruction\n",
      "05/10/2024 12:28:01 AM - newspaper ignoring lxml node error: Input object is not an XML element: HtmlProcessingInstruction\n",
      "05/10/2024 12:28:01 AM - newspaper ignoring lxml node error: Input object is not an XML element: HtmlProcessingInstruction\n"
     ]
    },
    {
     "name": "stdout",
     "output_type": "stream",
     "text": [
      "245, 246, 247, 248, 249, 250, 251, 252, 253, 254, 255, 256, 257, 258, 259, 260, 261, 262, 263, 264, 265, 266, 267, 268, 269, 270, 271, 272, 273, 274, 275, 276, 277, 278, An error occurred while fetching the article: Article `download()` failed with 403 Client Error: Forbidden for url: https://www.sfgate.com/news/article/northern-lights-geomagnetic-storm-norcal-19449795.php on URL https://news.google.com/rss/articles/CBMiWWh0dHBzOi8vd3d3LnNmZ2F0ZS5jb20vbmV3cy9hcnRpY2xlL25vcnRoZXJuLWxpZ2h0cy1nZW9tYWduZXRpYy1zdG9ybS1ub3JjYWwtMTk0NDk3OTUucGhw0gEA?oc=5&hl=en-US&gl=US&ceid=US:en\n",
      "279, 280, 281, 282, 283, 284, 285, 286, 287, 288, 289, 290, 291, 292, 293, 294, 295, 296, 297, 298, 299, 300, 301, 302, 303, 304, 305, 306, 307, 308, 309, 310, 311, 312, 313, 314, 315, 316, 317, 318, 319, 320, 321, 322, 323, 324, 325, 326, 327, 328, 329, 330, 331, 332, 333, 334, 335, "
     ]
    },
    {
     "name": "stderr",
     "output_type": "stream",
     "text": [
      "05/10/2024 12:28:52 AM - newspaper ignoring lxml node error: Input object is not an XML element: HtmlProcessingInstruction\n",
      "05/10/2024 12:28:52 AM - newspaper ignoring lxml node error: Input object is not an XML element: HtmlProcessingInstruction\n",
      "05/10/2024 12:28:52 AM - newspaper ignoring lxml node error: Input object is not an XML element: HtmlProcessingInstruction\n",
      "05/10/2024 12:28:52 AM - newspaper ignoring lxml node error: Input object is not an XML element: HtmlProcessingInstruction\n",
      "05/10/2024 12:28:52 AM - newspaper ignoring lxml node error: Input object is not an XML element: HtmlProcessingInstruction\n",
      "05/10/2024 12:28:52 AM - newspaper ignoring lxml node error: Input object is not an XML element: HtmlProcessingInstruction\n",
      "05/10/2024 12:28:52 AM - newspaper ignoring lxml node error: Input object is not an XML element: HtmlProcessingInstruction\n",
      "05/10/2024 12:28:52 AM - newspaper ignoring lxml node error: Input object is not an XML element: HtmlProcessingInstruction\n",
      "05/10/2024 12:28:52 AM - newspaper ignoring lxml node error: Input object is not an XML element: HtmlProcessingInstruction\n",
      "05/10/2024 12:28:52 AM - newspaper ignoring lxml node error: Input object is not an XML element: HtmlProcessingInstruction\n"
     ]
    },
    {
     "name": "stdout",
     "output_type": "stream",
     "text": [
      "336, "
     ]
    },
    {
     "name": "stderr",
     "output_type": "stream",
     "text": [
      "05/10/2024 12:28:53 AM - newspaper ignoring lxml node error: Input object is not an XML element: HtmlProcessingInstruction\n"
     ]
    },
    {
     "name": "stdout",
     "output_type": "stream",
     "text": [
      "337, 338, 339, "
     ]
    },
    {
     "name": "stderr",
     "output_type": "stream",
     "text": [
      "05/10/2024 12:28:54 AM - newspaper ignoring lxml node error: Input object is not an XML element: HtmlProcessingInstruction\n",
      "05/10/2024 12:28:54 AM - newspaper ignoring lxml node error: Input object is not an XML element: HtmlProcessingInstruction\n",
      "05/10/2024 12:28:54 AM - newspaper ignoring lxml node error: Input object is not an XML element: HtmlProcessingInstruction\n",
      "05/10/2024 12:28:54 AM - newspaper ignoring lxml node error: Input object is not an XML element: HtmlProcessingInstruction\n",
      "05/10/2024 12:28:54 AM - newspaper ignoring lxml node error: Input object is not an XML element: HtmlProcessingInstruction\n",
      "05/10/2024 12:28:54 AM - newspaper ignoring lxml node error: Input object is not an XML element: HtmlProcessingInstruction\n",
      "05/10/2024 12:28:54 AM - newspaper ignoring lxml node error: Input object is not an XML element: HtmlProcessingInstruction\n",
      "05/10/2024 12:28:54 AM - newspaper ignoring lxml node error: Input object is not an XML element: HtmlProcessingInstruction\n",
      "05/10/2024 12:28:54 AM - newspaper ignoring lxml node error: Input object is not an XML element: HtmlProcessingInstruction\n",
      "05/10/2024 12:28:54 AM - newspaper ignoring lxml node error: Input object is not an XML element: HtmlProcessingInstruction\n"
     ]
    },
    {
     "name": "stdout",
     "output_type": "stream",
     "text": [
      "340, 341, 342, 343, 344, 345, 346, 347, 348, 349, 350, An error occurred while fetching the article: Article `download()` failed with 429 Client Error: Unknown Error for url: https://thehill.com/policy/healthcare/4654808-new-covid-flirt-variants-coronavirus/ on URL https://news.google.com/rss/articles/CBMiU2h0dHBzOi8vdGhlaGlsbC5jb20vcG9saWN5L2hlYWx0aGNhcmUvNDY1NDgwOC1uZXctY292aWQtZmxpcnQtdmFyaWFudHMtY29yb25hdmlydXMv0gFXaHR0cHM6Ly90aGVoaWxsLmNvbS9wb2xpY3kvaGVhbHRoY2FyZS80NjU0ODA4LW5ldy1jb3ZpZC1mbGlydC12YXJpYW50cy1jb3JvbmF2aXJ1cy9hbXAv?oc=5&hl=en-US&gl=US&ceid=US:en\n",
      "351, 352, 353, 354, 355, 356, 357, 358, 359, 360, 361, 362, 363, 364, 365, 366, An error occurred while fetching the article: Article `download()` failed with 403 Client Error: Forbidden for url: https://www.wsj.com/health/pharma/maintaining-weight-loss-1fd1e321 on URL https://news.google.com/rss/articles/CBMiQmh0dHBzOi8vd3d3Lndzai5jb20vaGVhbHRoL3BoYXJtYS9tYWludGFpbmluZy13ZWlnaHQtbG9zcy0xZmQxZTMyMdIBAA?oc=5&hl=en-US&gl=US&ceid=US:en\n",
      "367, 368, 369, 370, 371, 372, An error occurred while fetching the article: Article `download()` failed with HTTPSConnectionPool(host='www.sacbee.com', port=443): Read timed out. (read timeout=7) on URL https://news.google.com/rss/articles/CBMiN2h0dHBzOi8vd3d3LnNhY2JlZS5jb20vbmV3cy9sb2NhbC9hcnRpY2xlMjg4NDIzMTU3Lmh0bWzSATdodHRwczovL2FtcC5zYWNiZWUuY29tL25ld3MvbG9jYWwvYXJ0aWNsZTI4ODQyMzE1Ny5odG1s?oc=5&hl=en-US&gl=US&ceid=US:en\n",
      "373, 374, 375, 376, 377, 378, 379, 380, 381, 382, 383, 384, 385, 386, 387, 388, 389, 390, 391, 392, 393, 394, 395, 396, 397, 398, 399, 400, 401, 402, 403, 404, 405, 406, 407, 408, 409, 410, 411, 412, 413, 414, 415, 416, 417, "
     ]
    }
   ],
   "source": [
    "articles = []\n",
    "for topic in topics:\n",
    "    json_resp = google_news.get_news_by_topic(topic)\n",
    "    for resp in json_resp:\n",
    "        try:\n",
    "            article = google_news.get_full_article(resp['url'])\n",
    "        except:\n",
    "            continue\n",
    "        articles.append(article)\n",
    "        print(len(articles), end = ', ')"
   ]
  },
  {
   "cell_type": "code",
   "execution_count": 60,
   "id": "a87f8b79-5a13-4be0-8539-f0125af9051b",
   "metadata": {},
   "outputs": [
    {
     "data": {
      "text/plain": [
       "417"
      ]
     },
     "execution_count": 60,
     "metadata": {},
     "output_type": "execute_result"
    }
   ],
   "source": [
    "len(articles)"
   ]
  },
  {
   "cell_type": "code",
   "execution_count": 83,
   "id": "37aab7c7-2298-43d5-972c-d6075eba2116",
   "metadata": {},
   "outputs": [],
   "source": [
    "news = []"
   ]
  },
  {
   "cell_type": "code",
   "execution_count": 84,
   "id": "e37b3062-a7ae-400f-b3b9-59535891b234",
   "metadata": {},
   "outputs": [],
   "source": [
    "for i in articles:\n",
    "    if i is not None:\n",
    "        if len(i.text) > 0:\n",
    "            news.append(i.text)"
   ]
  },
  {
   "cell_type": "code",
   "execution_count": 85,
   "id": "0d330d80-d3d9-4a8b-8906-ad80953a5b33",
   "metadata": {},
   "outputs": [],
   "source": [
    "def clean_text(text):\n",
    "    # Remove HTML tags\n",
    "    clean = re.sub(r'<.*?>', '', text)\n",
    "    \n",
    "    # Decode HTML entities\n",
    "    clean = unescape(clean)\n",
    "    \n",
    "    # Replace URLs with a space\n",
    "    clean = re.sub(r'http[s]?://\\S+', '', clean)\n",
    "    \n",
    "    # Remove all non-alphanumeric characters (optional: keep periods and commas)\n",
    "    clean = re.sub(r'[^a-zA-Z0-9\\s.,]', '', clean)\n",
    "    \n",
    "    # Replace multiple spaces with a single space\n",
    "    clean = re.sub(r'\\s+', ' ', clean).strip()\n",
    "    \n",
    "    return clean"
   ]
  },
  {
   "cell_type": "code",
   "execution_count": 86,
   "id": "df9a291f-6b50-4d5e-829b-db08fa4947a5",
   "metadata": {},
   "outputs": [],
   "source": [
    "clean_articles = [clean_text(article) for article in news]"
   ]
  },
  {
   "cell_type": "code",
   "execution_count": 91,
   "id": "cfa5b437-6030-4122-b67d-0e4fa2183ea8",
   "metadata": {},
   "outputs": [],
   "source": [
    "df = pd.DataFrame({\n",
    "    'news': clean_articles\n",
    "})"
   ]
  },
  {
   "cell_type": "code",
   "execution_count": 93,
   "id": "1efd69c5-4ef7-4630-b435-4f15f625b543",
   "metadata": {},
   "outputs": [
    {
     "data": {
      "text/html": [
       "<div>\n",
       "<style scoped>\n",
       "    .dataframe tbody tr th:only-of-type {\n",
       "        vertical-align: middle;\n",
       "    }\n",
       "\n",
       "    .dataframe tbody tr th {\n",
       "        vertical-align: top;\n",
       "    }\n",
       "\n",
       "    .dataframe thead th {\n",
       "        text-align: right;\n",
       "    }\n",
       "</style>\n",
       "<table border=\"1\" class=\"dataframe\">\n",
       "  <thead>\n",
       "    <tr style=\"text-align: right;\">\n",
       "      <th></th>\n",
       "      <th>news</th>\n",
       "    </tr>\n",
       "  </thead>\n",
       "  <tbody>\n",
       "    <tr>\n",
       "      <th>0</th>\n",
       "      <td>A man and his dog reunite at a shelter providi...</td>\n",
       "    </tr>\n",
       "    <tr>\n",
       "      <th>1</th>\n",
       "      <td>By clicking Sign Up, you accept our Terms of S...</td>\n",
       "    </tr>\n",
       "    <tr>\n",
       "      <th>2</th>\n",
       "      <td>Accidents involving Air Senegal, Corendon Airl...</td>\n",
       "    </tr>\n",
       "    <tr>\n",
       "      <th>3</th>\n",
       "      <td>WASHINGTON President Joe Biden significantly s...</td>\n",
       "    </tr>\n",
       "    <tr>\n",
       "      <th>4</th>\n",
       "      <td>CNN Desperately needed humanitarian aid for Pa...</td>\n",
       "    </tr>\n",
       "    <tr>\n",
       "      <th>...</th>\n",
       "      <td>...</td>\n",
       "    </tr>\n",
       "    <tr>\n",
       "      <th>360</th>\n",
       "      <td>Most scientists believe that consciousness cam...</td>\n",
       "    </tr>\n",
       "    <tr>\n",
       "      <th>361</th>\n",
       "      <td>University of Michigan neurologist Eva Feldman...</td>\n",
       "    </tr>\n",
       "    <tr>\n",
       "      <th>362</th>\n",
       "      <td>If youve spent enough time scrolling through T...</td>\n",
       "    </tr>\n",
       "    <tr>\n",
       "      <th>363</th>\n",
       "      <td>The product recommendations in this post are r...</td>\n",
       "    </tr>\n",
       "    <tr>\n",
       "      <th>364</th>\n",
       "      <td>Pay Dirt is Slates money advice column. Have a...</td>\n",
       "    </tr>\n",
       "  </tbody>\n",
       "</table>\n",
       "<p>365 rows × 1 columns</p>\n",
       "</div>"
      ],
      "text/plain": [
       "                                                  news\n",
       "0    A man and his dog reunite at a shelter providi...\n",
       "1    By clicking Sign Up, you accept our Terms of S...\n",
       "2    Accidents involving Air Senegal, Corendon Airl...\n",
       "3    WASHINGTON President Joe Biden significantly s...\n",
       "4    CNN Desperately needed humanitarian aid for Pa...\n",
       "..                                                 ...\n",
       "360  Most scientists believe that consciousness cam...\n",
       "361  University of Michigan neurologist Eva Feldman...\n",
       "362  If youve spent enough time scrolling through T...\n",
       "363  The product recommendations in this post are r...\n",
       "364  Pay Dirt is Slates money advice column. Have a...\n",
       "\n",
       "[365 rows x 1 columns]"
      ]
     },
     "execution_count": 93,
     "metadata": {},
     "output_type": "execute_result"
    }
   ],
   "source": [
    "df"
   ]
  },
  {
   "cell_type": "code",
   "execution_count": 94,
   "id": "9bb21d01-1ef6-4f12-bf8a-06ab1e12c99d",
   "metadata": {},
   "outputs": [],
   "source": [
    "df.to_csv('gnews.csv', index=False)"
   ]
  },
  {
   "cell_type": "code",
   "execution_count": null,
   "id": "bc359939-fa34-4bf0-ac79-b5753d7638a5",
   "metadata": {},
   "outputs": [],
   "source": []
  }
 ],
 "metadata": {
  "kernelspec": {
   "display_name": "Python 3 (ipykernel)",
   "language": "python",
   "name": "python3"
  },
  "language_info": {
   "codemirror_mode": {
    "name": "ipython",
    "version": 3
   },
   "file_extension": ".py",
   "mimetype": "text/x-python",
   "name": "python",
   "nbconvert_exporter": "python",
   "pygments_lexer": "ipython3",
   "version": "3.9.6"
  }
 },
 "nbformat": 4,
 "nbformat_minor": 5
}
