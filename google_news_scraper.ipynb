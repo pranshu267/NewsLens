{
 "cells": [
  {
   "cell_type": "code",
   "execution_count": 1,
   "id": "78ce1bef-c385-42e3-b179-05f8374e3cbb",
   "metadata": {},
   "outputs": [],
   "source": [
    "from gnews import GNews\n",
    "import newspaper\n",
    "from newspaper import Article\n",
    "from newspaper import Config\n",
    "import pandas as pd\n",
    "import re\n",
    "from html import unescape\n",
    "\n",
    "user_agent = 'Mozilla/5.0 (Macintosh; Intel Mac OS X 10_11_5) AppleWebKit/537.36 (KHTML, like Gecko) Chrome/50.0.2661.102 Safari/537.36'\n",
    "config = Config()\n",
    "config.browser_user_agent = user_agent"
   ]
  },
  {
   "cell_type": "code",
   "execution_count": 2,
   "id": "9853cee0-c0fc-43a5-bfd1-4e6325347b5d",
   "metadata": {},
   "outputs": [],
   "source": [
    "google_news = GNews(language='en', period='14d', max_results=500000)"
   ]
  },
  {
   "cell_type": "code",
   "execution_count": 3,
   "id": "2430acf5-e03c-448b-9bc2-5c56ed1f9276",
   "metadata": {},
   "outputs": [],
   "source": [
    "topics = [\"WORLD\", \"NATION\", \"BUSINESS\", \"TECHNOLOGY\", \"ENTERTAINMENT\", \"SPORTS\", \"SCIENCE\", \"HEALTH\"]"
   ]
  },
  {
   "cell_type": "code",
   "execution_count": 4,
   "id": "11fde22c-087a-46ec-851f-ea4fd85627ad",
   "metadata": {
    "scrolled": true
   },
   "outputs": [
    {
     "name": "stdout",
     "output_type": "stream",
     "text": [
      "1, 2, 3, 4, 5, An error occurred while fetching the article: Article `download()` failed with 403 Client Error: Forbidden for url: https://www.newsweek.com/lindsey-grahams-nuclear-bombs-tantrum-sparks-backlash-1899668 on URL https://news.google.com/rss/articles/CBMiVmh0dHBzOi8vd3d3Lm5ld3N3ZWVrLmNvbS9saW5kc2V5LWdyYWhhbXMtbnVjbGVhci1ib21icy10YW50cnVtLXNwYXJrcy1iYWNrbGFzaC0xODk5NjY40gEA?oc=5&hl=en-US&gl=US&ceid=US:en\n",
      "6, 7, 8, 9, An error occurred while fetching the article: Article `download()` failed with 403 Client Error: Forbidden for url: https://www.wsj.com/world/russias-bombardment-of-ukraine-is-more-lethal-than-ever-afd733c4 on URL https://news.google.com/rss/articles/CBMiWmh0dHBzOi8vd3d3Lndzai5jb20vd29ybGQvcnVzc2lhcy1ib21iYXJkbWVudC1vZi11a3JhaW5lLWlzLW1vcmUtbGV0aGFsLXRoYW4tZXZlci1hZmQ3MzNjNNIBAA?oc=5&hl=en-US&gl=US&ceid=US:en\n",
      "10, 11, 12, An error occurred while fetching the article: Article `download()` failed with 403 Client Error: Forbidden for url: https://www.barrons.com/news/dogs-horses-rabbits-more-than-10-000-animals-rescued-from-brazil-floods-fbba25d5 on URL https://news.google.com/rss/articles/CBMibWh0dHBzOi8vd3d3LmJhcnJvbnMuY29tL25ld3MvZG9ncy1ob3JzZXMtcmFiYml0cy1tb3JlLXRoYW4tMTAtMDAwLWFuaW1hbHMtcmVzY3VlZC1mcm9tLWJyYXppbC1mbG9vZHMtZmJiYTI1ZDXSAQA?oc=5&hl=en-US&gl=US&ceid=US:en\n",
      "13, 14, 15, An error occurred while fetching the article: Article `download()` failed with 429 Client Error: Unknown Error for url: https://thehill.com/policy/defense/4659480-my-life-is-in-danger-says-marine-vet-who-tried-to-help-north-korean-diplomats-defect/ on URL https://news.google.com/rss/articles/CBMigAFodHRwczovL3RoZWhpbGwuY29tL3BvbGljeS9kZWZlbnNlLzQ2NTk0ODAtbXktbGlmZS1pcy1pbi1kYW5nZXItc2F5cy1tYXJpbmUtdmV0LXdoby10cmllZC10by1oZWxwLW5vcnRoLWtvcmVhbi1kaXBsb21hdHMtZGVmZWN0L9IBhAFodHRwczovL3RoZWhpbGwuY29tL3BvbGljeS9kZWZlbnNlLzQ2NTk0ODAtbXktbGlmZS1pcy1pbi1kYW5nZXItc2F5cy1tYXJpbmUtdmV0LXdoby10cmllZC10by1oZWxwLW5vcnRoLWtvcmVhbi1kaXBsb21hdHMtZGVmZWN0L2FtcC8?oc=5&hl=en-US&gl=US&ceid=US:en\n",
      "16, 17, 18, An error occurred while fetching the article: Article `download()` failed with 403 Client Error: Forbidden for url: https://www.politico.com/news/2024/05/12/chris-coons-netanyahu-israel-biden-00157490 on URL https://news.google.com/rss/articles/CBMiVGh0dHBzOi8vd3d3LnBvbGl0aWNvLmNvbS9uZXdzLzIwMjQvMDUvMTIvY2hyaXMtY29vbnMtbmV0YW55YWh1LWlzcmFlbC1iaWRlbi0wMDE1NzQ5MNIBAA?oc=5&hl=en-US&gl=US&ceid=US:en\n",
      "19, An error occurred while fetching the article: Article `download()` failed with 401 Client Error: HTTP Forbidden for url: https://www.reuters.com/world/asia-pacific/taliban-ministry-death-toll-floods-northern-afghanistan-rises-315-2024-05-12/ on URL https://news.google.com/rss/articles/CBMieGh0dHBzOi8vd3d3LnJldXRlcnMuY29tL3dvcmxkL2FzaWEtcGFjaWZpYy90YWxpYmFuLW1pbmlzdHJ5LWRlYXRoLXRvbGwtZmxvb2RzLW5vcnRoZXJuLWFmZ2hhbmlzdGFuLXJpc2VzLTMxNS0yMDI0LTA1LTEyL9IBAA?oc=5&hl=en-US&gl=US&ceid=US:en\n",
      "20, 21, 22, 23, 24, 25, 26, 27, 28, 29, 30, 31, 32, 33, 34, An error occurred while fetching the article: Article `download()` failed with 403 Client Error: Forbidden for url: https://www.politico.com/news/2024/05/12/poor-kenyans-feel-devastated-by-floods-and-brutalized-by-the-governments-response-00157485 on URL https://news.google.com/rss/articles/CBMigwFodHRwczovL3d3dy5wb2xpdGljby5jb20vbmV3cy8yMDI0LzA1LzEyL3Bvb3Ita2VueWFucy1mZWVsLWRldmFzdGF0ZWQtYnktZmxvb2RzLWFuZC1icnV0YWxpemVkLWJ5LXRoZS1nb3Zlcm5tZW50cy1yZXNwb25zZS0wMDE1NzQ4NdIBAA?oc=5&hl=en-US&gl=US&ceid=US:en\n",
      "35, 36, 37, 38, 39, 40, 41, 42, 43, 44, 45, 46, 47, An error occurred while fetching the article: Article `download()` failed with 429 Client Error: Unknown Error for url: https://www.cbs17.com/news/local-news/still-chances-to-view-northern-lights-sunday-night-in-central-north-carolina/ on URL https://news.google.com/rss/articles/CBMic2h0dHBzOi8vd3d3LmNiczE3LmNvbS9uZXdzL2xvY2FsLW5ld3Mvc3RpbGwtY2hhbmNlcy10by12aWV3LW5vcnRoZXJuLWxpZ2h0cy1zdW5kYXktbmlnaHQtaW4tY2VudHJhbC1ub3J0aC1jYXJvbGluYS_SAQA?oc=5&hl=en-US&gl=US&ceid=US:en\n",
      "48, 49, 50, 51, 52, 53, 54, 55, 56, 57, 58, 59, 60, 61, 62, 63, 64, 65, 66, 67, 68, 69, 70, An error occurred while fetching the article: Article `download()` failed with 403 Client Error: Forbidden for url: https://www.newsweek.com/bernie-sanders-issues-scathing-rebuke-israel-1899659 on URL https://news.google.com/rss/articles/CBMiTWh0dHBzOi8vd3d3Lm5ld3N3ZWVrLmNvbS9iZXJuaWUtc2FuZGVycy1pc3N1ZXMtc2NhdGhpbmctcmVidWtlLWlzcmFlbC0xODk5NjU50gEA?oc=5&hl=en-US&gl=US&ceid=US:en\n",
      "71, 72, An error occurred while fetching the article: Article `download()` failed with HTTPSConnectionPool(host='www.click2houston.com', port=443): Read timed out. (read timeout=7) on URL https://news.google.com/rss/articles/CBMinQFodHRwczovL3d3dy5jbGljazJob3VzdG9uLmNvbS9uZXdzL2xvY2FsLzIwMjQvMDUvMTMvc3VzcGVjdC1hcnJlc3RlZC1vbi1tdXJkZXItY2hhcmdlcy1hZnRlci1ydW5uaW5nLW92ZXItc3RhYmJpbmctNjQteWVhci1vbGQtbWFuLXNlY3VyaXR5LWZvb3RhZ2UtcmVsZWFzZWQv0gEA?oc=5&hl=en-US&gl=US&ceid=US:en\n",
      "73, 74, 75, 76, An error occurred while fetching the article: Article `download()` failed with 429 Client Error: Unknown Error for url: https://ktla.com/news/local-news/boy-17-riding-a-scooter-killed-by-hit-and-run-driver-in-long-beach/ on URL https://news.google.com/rss/articles/CBMiZGh0dHBzOi8va3RsYS5jb20vbmV3cy9sb2NhbC1uZXdzL2JveS0xNy1yaWRpbmctYS1zY29vdGVyLWtpbGxlZC1ieS1oaXQtYW5kLXJ1bi1kcml2ZXItaW4tbG9uZy1iZWFjaC_SAWhodHRwczovL2t0bGEuY29tL25ld3MvbG9jYWwtbmV3cy9ib3ktMTctcmlkaW5nLWEtc2Nvb3Rlci1raWxsZWQtYnktaGl0LWFuZC1ydW4tZHJpdmVyLWluLWxvbmctYmVhY2gvYW1wLw?oc=5&hl=en-US&gl=US&ceid=US:en\n",
      "77, 78, 79, An error occurred while fetching the article: Article `download()` failed with 429 Client Error: Unknown Error for url: https://www.khon2.com/local-news/flooding-road-debris-on-hawaii-after-epic-amount-of-rain/ on URL https://news.google.com/rss/articles/CBMiWmh0dHBzOi8vd3d3Lmtob24yLmNvbS9sb2NhbC1uZXdzL2Zsb29kaW5nLXJvYWQtZGVicmlzLW9uLWhhd2FpaS1hZnRlci1lcGljLWFtb3VudC1vZi1yYWluL9IBXmh0dHBzOi8vd3d3Lmtob24yLmNvbS9sb2NhbC1uZXdzL2Zsb29kaW5nLXJvYWQtZGVicmlzLW9uLWhhd2FpaS1hZnRlci1lcGljLWFtb3VudC1vZi1yYWluL2FtcC8?oc=5&hl=en-US&gl=US&ceid=US:en\n",
      "80, 81, 82, 83, 84, 85, An error occurred while fetching the article: Article `download()` failed with 429 Client Error: Unknown Error for url: https://thehill.com/homenews/campaign/4656934-david-trone-angela-alsobrooks-larry-hogan-maryland-senate-primary/ on URL https://news.google.com/rss/articles/CBMicGh0dHBzOi8vdGhlaGlsbC5jb20vaG9tZW5ld3MvY2FtcGFpZ24vNDY1NjkzNC1kYXZpZC10cm9uZS1hbmdlbGEtYWxzb2Jyb29rcy1sYXJyeS1ob2dhbi1tYXJ5bGFuZC1zZW5hdGUtcHJpbWFyeS_SAXRodHRwczovL3RoZWhpbGwuY29tL2hvbWVuZXdzL2NhbXBhaWduLzQ2NTY5MzQtZGF2aWQtdHJvbmUtYW5nZWxhLWFsc29icm9va3MtbGFycnktaG9nYW4tbWFyeWxhbmQtc2VuYXRlLXByaW1hcnkvYW1wLw?oc=5&hl=en-US&gl=US&ceid=US:en\n",
      "86, 87, 88, An error occurred while fetching the article: Article `download()` failed with 403 Client Error: Forbidden for url: https://www.politico.com/news/2024/05/12/fatal-shooting-florida-gun-00157488 on URL https://news.google.com/rss/articles/CBMiTGh0dHBzOi8vd3d3LnBvbGl0aWNvLmNvbS9uZXdzLzIwMjQvMDUvMTIvZmF0YWwtc2hvb3RpbmctZmxvcmlkYS1ndW4tMDAxNTc0ODjSAQA?oc=5&hl=en-US&gl=US&ceid=US:en\n",
      "89, An error occurred while fetching the article: Article `download()` failed with HTTPSConnectionPool(host='www.miamiherald.com', port=443): Read timed out. (read timeout=7) on URL https://news.google.com/rss/articles/CBMiQ2h0dHBzOi8vd3d3Lm1pYW1paGVyYWxkLmNvbS9uZXdzL3dlYXRoZXItbmV3cy9hcnRpY2xlMjg4NDY2NzUxLmh0bWzSAUNodHRwczovL2FtcC5taWFtaWhlcmFsZC5jb20vbmV3cy93ZWF0aGVyLW5ld3MvYXJ0aWNsZTI4ODQ2Njc1MS5odG1s?oc=5&hl=en-US&gl=US&ceid=US:en\n",
      "90, 91, An error occurred while fetching the article: Article `download()` failed with 403 Client Error: Forbidden for url: https://www.newsweek.com/aileen-cannon-overseeing-trump-case-governmental-insanity-glenn-kirschner-1899640 on URL https://news.google.com/rss/articles/CBMiamh0dHBzOi8vd3d3Lm5ld3N3ZWVrLmNvbS9haWxlZW4tY2Fubm9uLW92ZXJzZWVpbmctdHJ1bXAtY2FzZS1nb3Zlcm5tZW50YWwtaW5zYW5pdHktZ2xlbm4ta2lyc2NobmVyLTE4OTk2NDDSAQA?oc=5&hl=en-US&gl=US&ceid=US:en\n",
      "92, 93, 94, 95, 96, 97, An error occurred while fetching the article: Article `download()` failed with 429 Client Error: Unknown Error for url: https://thehill.com/regulation/court-battles/4658518-mary-trump-absurd-to-think-trump-would-willingly-go-to-jail/ on URL https://news.google.com/rss/articles/CBMicWh0dHBzOi8vdGhlaGlsbC5jb20vcmVndWxhdGlvbi9jb3VydC1iYXR0bGVzLzQ2NTg1MTgtbWFyeS10cnVtcC1hYnN1cmQtdG8tdGhpbmstdHJ1bXAtd291bGQtd2lsbGluZ2x5LWdvLXRvLWphaWwv0gF1aHR0cHM6Ly90aGVoaWxsLmNvbS9yZWd1bGF0aW9uL2NvdXJ0LWJhdHRsZXMvNDY1ODUxOC1tYXJ5LXRydW1wLWFic3VyZC10by10aGluay10cnVtcC13b3VsZC13aWxsaW5nbHktZ28tdG8tamFpbC9hbXAv?oc=5&hl=en-US&gl=US&ceid=US:en\n",
      "98, 99, An error occurred while fetching the article: Article `download()` failed with HTTPSConnectionPool(host='www.seattletimes.com', port=443): Read timed out. (read timeout=7) on URL https://news.google.com/rss/articles/CBMibGh0dHBzOi8vd3d3LnNlYXR0bGV0aW1lcy5jb20vc2VhdHRsZS1uZXdzL3NlYXR0bGUtY2h1cmNoLWxlYWRzLWNvdW50ZXJwcm90ZXN0LXRocm91Z2gtdXctcHJvdGVzdC1lbmNhbXBtZW50L9IBAA?oc=5&hl=en-US&gl=US&ceid=US:en\n",
      "100, 101, 102, 103, 104, 105, 106, An error occurred while fetching the article: Article `download()` failed with 401 Client Error: HTTP Forbidden for url: https://www.marketwatch.com/story/inflation-trap-stock-markets-near-record-run-faces-the-most-crucial-cpi-reading-of-2024-e88374f6 on URL https://news.google.com/rss/articles/CBMiggFodHRwczovL3d3dy5tYXJrZXR3YXRjaC5jb20vc3RvcnkvaW5mbGF0aW9uLXRyYXAtc3RvY2stbWFya2V0cy1uZWFyLXJlY29yZC1ydW4tZmFjZXMtdGhlLW1vc3QtY3J1Y2lhbC1jcGktcmVhZGluZy1vZi0yMDI0LWU4ODM3NGY20gGGAWh0dHBzOi8vd3d3Lm1hcmtldHdhdGNoLmNvbS9hbXAvc3RvcnkvaW5mbGF0aW9uLXRyYXAtc3RvY2stbWFya2V0cy1uZWFyLXJlY29yZC1ydW4tZmFjZXMtdGhlLW1vc3QtY3J1Y2lhbC1jcGktcmVhZGluZy1vZi0yMDI0LWU4ODM3NGY2?oc=5&hl=en-US&gl=US&ceid=US:en\n",
      "107, 108, 109, 110, 111, 112, 113, 114, 115, An error occurred while fetching the article: Article `download()` failed with 401 Client Error: HTTP Forbidden for url: https://www.reuters.com/markets/commodities/iraq-is-committed-opecs-oil-output-cuts-minister-says-2024-05-12/ on URL https://news.google.com/rss/articles/CBMibWh0dHBzOi8vd3d3LnJldXRlcnMuY29tL21hcmtldHMvY29tbW9kaXRpZXMvaXJhcS1pcy1jb21taXR0ZWQtb3BlY3Mtb2lsLW91dHB1dC1jdXRzLW1pbmlzdGVyLXNheXMtMjAyNC0wNS0xMi_SAQA?oc=5&hl=en-US&gl=US&ceid=US:en\n",
      "116, 117, 118, 119, 120, 121, 122, 123, 124, 125, 126, 127, An error occurred while fetching the article: Article `download()` failed with 401 Client Error: HTTP Forbidden for url: https://www.reuters.com/technology/arm-holdings-plans-launch-ai-chips-2025-nikkei-reports-2024-05-11/ on URL https://news.google.com/rss/articles/CBMiZWh0dHBzOi8vd3d3LnJldXRlcnMuY29tL3RlY2hub2xvZ3kvYXJtLWhvbGRpbmdzLXBsYW5zLWxhdW5jaC1haS1jaGlwcy0yMDI1LW5pa2tlaS1yZXBvcnRzLTIwMjQtMDUtMTEv0gEA?oc=5&hl=en-US&gl=US&ceid=US:en\n",
      "128, 129, 130, 131, 132, 133, 134, 135, 136, 137, An error occurred while fetching the article: Article `download()` failed with 401 Client Error: HTTP Forbidden for url: https://www.reuters.com/world/asia-pacific/eight-more-chinese-cities-join-hong-kong-solo-travel-scheme-2024-05-11/ on URL https://news.google.com/rss/articles/CBMicmh0dHBzOi8vd3d3LnJldXRlcnMuY29tL3dvcmxkL2FzaWEtcGFjaWZpYy9laWdodC1tb3JlLWNoaW5lc2UtY2l0aWVzLWpvaW4taG9uZy1rb25nLXNvbG8tdHJhdmVsLXNjaGVtZS0yMDI0LTA1LTExL9IBAA?oc=5&hl=en-US&gl=US&ceid=US:en\n",
      "138, 139, 140, 141, 142, 143, 144, 145, 146, 147, 148, 149, An error occurred while fetching the article: Article `download()` failed with 403 Client Error: Forbidden for url: https://www.barrons.com/articles/alphabet-stock-freshworks-gitlab-buy-a7e5c004 on URL https://news.google.com/rss/articles/CBMiTmh0dHBzOi8vd3d3LmJhcnJvbnMuY29tL2FydGljbGVzL2FscGhhYmV0LXN0b2NrLWZyZXNod29ya3MtZ2l0bGFiLWJ1eS1hN2U1YzAwNNIBAA?oc=5&hl=en-US&gl=US&ceid=US:en\n",
      "150, 151, 152, An error occurred while fetching the article: Article `download()` failed with 403 Client Error: Forbidden for url: https://www.thestreet.com/restaurants/famous-restaurant-files-for-chapter-11-bankruptcy on URL https://news.google.com/rss/articles/CBMiV2h0dHBzOi8vd3d3LnRoZXN0cmVldC5jb20vcmVzdGF1cmFudHMvZmFtb3VzLXJlc3RhdXJhbnQtZmlsZXMtZm9yLWNoYXB0ZXItMTEtYmFua3J1cHRjedIBAA?oc=5&hl=en-US&gl=US&ceid=US:en\n",
      "153, 154, 155, 156, An error occurred while fetching the article: Article `download()` failed with 401 Client Error: HTTP Forbidden for url: https://www.reuters.com/world/india/before-global-scrutiny-indian-spice-maker-mdh-faced-many-us-rejections-2024-05-12/ on URL https://news.google.com/rss/articles/CBMidmh0dHBzOi8vd3d3LnJldXRlcnMuY29tL3dvcmxkL2luZGlhL2JlZm9yZS1nbG9iYWwtc2NydXRpbnktaW5kaWFuLXNwaWNlLW1ha2VyLW1kaC1mYWNlZC1tYW55LXVzLXJlamVjdGlvbnMtMjAyNC0wNS0xMi_SAQA?oc=5&hl=en-US&gl=US&ceid=US:en\n",
      "157, 158, 159, 160, 161, 162, An error occurred while fetching the article: Article `download()` failed with 429 Client Error: Unknown Error for url: https://ktla.com/news/local-news/socal-has-six-of-the-top-barbecue-spots-in-the-u-s/ on URL https://news.google.com/rss/articles/CBMiVGh0dHBzOi8va3RsYS5jb20vbmV3cy9sb2NhbC1uZXdzL3NvY2FsLWhhcy1zaXgtb2YtdGhlLXRvcC1iYXJiZWN1ZS1zcG90cy1pbi10aGUtdS1zL9IBWGh0dHBzOi8va3RsYS5jb20vbmV3cy9sb2NhbC1uZXdzL3NvY2FsLWhhcy1zaXgtb2YtdGhlLXRvcC1iYXJiZWN1ZS1zcG90cy1pbi10aGUtdS1zL2FtcC8?oc=5&hl=en-US&gl=US&ceid=US:en\n",
      "163, An error occurred while fetching the article: Article `download()` failed with 403 Client Error: Forbidden for url: https://seekingalpha.com/article/4692443-5-dividend-stocks-to-build-a-portfolio-for-conservative-retirees on URL https://news.google.com/rss/articles/CBMiaWh0dHBzOi8vc2Vla2luZ2FscGhhLmNvbS9hcnRpY2xlLzQ2OTI0NDMtNS1kaXZpZGVuZC1zdG9ja3MtdG8tYnVpbGQtYS1wb3J0Zm9saW8tZm9yLWNvbnNlcnZhdGl2ZS1yZXRpcmVlc9IBAA?oc=5&hl=en-US&gl=US&ceid=US:en\n",
      "164, 165, 166, 167, An error occurred while fetching the article: Article `download()` failed with 401 Client Error: HTTP Forbidden for url: https://www.reuters.com/business/aerospace-defense/lufthansa-boss-vents-frustration-about-boeing-problems-2024-05-12/ on URL https://news.google.com/rss/articles/CBMidWh0dHBzOi8vd3d3LnJldXRlcnMuY29tL2J1c2luZXNzL2Flcm9zcGFjZS1kZWZlbnNlL2x1ZnRoYW5zYS1ib3NzLXZlbnRzLWZydXN0cmF0aW9uLWFib3V0LWJvZWluZy1wcm9ibGVtcy0yMDI0LTA1LTEyL9IBAA?oc=5&hl=en-US&gl=US&ceid=US:en\n",
      "168, 169, 170, An error occurred while fetching the article: Article `download()` failed with 403 Client Error: Forbidden for url: https://www.thestreet.com/investing/stocks/analysts-retune-soundhound-ai-stock-price-target-after-earnings on URL https://news.google.com/rss/articles/CBMiamh0dHBzOi8vd3d3LnRoZXN0cmVldC5jb20vaW52ZXN0aW5nL3N0b2Nrcy9hbmFseXN0cy1yZXR1bmUtc291bmRob3VuZC1haS1zdG9jay1wcmljZS10YXJnZXQtYWZ0ZXItZWFybmluZ3PSAQA?oc=5&hl=en-US&gl=US&ceid=US:en\n",
      "171, 172, 173, 174, 175, An error occurred while fetching the article: Article `download()` failed with 403 Client Error: Max restarts limit reached for url: https://www.forbes.com/sites/davidphelan/2024/05/12/ios-18-trailblazing-ai-iphone-upgrades-just-weeks-away-report-claims-iphone-16-pro-max/ on URL https://news.google.com/rss/articles/CBMiiwFodHRwczovL3d3dy5mb3JiZXMuY29tL3NpdGVzL2RhdmlkcGhlbGFuLzIwMjQvMDUvMTIvaW9zLTE4LXRyYWlsYmxhemluZy1haS1pcGhvbmUtdXBncmFkZXMtanVzdC13ZWVrcy1hd2F5LXJlcG9ydC1jbGFpbXMtaXBob25lLTE2LXByby1tYXgv0gEA?oc=5&hl=en-US&gl=US&ceid=US:en\n",
      "176, 177, 178, 179, 180, An error occurred while fetching the article: Article `download()` failed with 403 Client Error: Max restarts limit reached for url: https://www.forbes.com/sites/krisholt/2024/05/11/todays-nyt-strands-hints-spangram-and-answers-for-sunday-may-12-picture-perfect/ on URL https://news.google.com/rss/articles/CBMigQFodHRwczovL3d3dy5mb3JiZXMuY29tL3NpdGVzL2tyaXNob2x0LzIwMjQvMDUvMTEvdG9kYXlzLW55dC1zdHJhbmRzLWhpbnRzLXNwYW5ncmFtLWFuZC1hbnN3ZXJzLWZvci1zdW5kYXktbWF5LTEyLXBpY3R1cmUtcGVyZmVjdC_SAQA?oc=5&hl=en-US&gl=US&ceid=US:en\n",
      "181, An error occurred while fetching the article: Article `download()` failed with 403 Client Error: Max restarts limit reached for url: https://www.forbes.com/sites/davidphelan/2024/05/12/apple-iphone-16-pro-new-leak-reveals-radically-upgraded-design/ on URL https://news.google.com/rss/articles/CBMic2h0dHBzOi8vd3d3LmZvcmJlcy5jb20vc2l0ZXMvZGF2aWRwaGVsYW4vMjAyNC8wNS8xMi9hcHBsZS1pcGhvbmUtMTYtcHJvLW5ldy1sZWFrLXJldmVhbHMtcmFkaWNhbGx5LXVwZ3JhZGVkLWRlc2lnbi_SAQA?oc=5&hl=en-US&gl=US&ceid=US:en\n",
      "182, 183, 184, An error occurred while fetching the article: Article `download()` failed with 403 Client Error: Max restarts limit reached for url: https://www.forbes.com/sites/mikestubbs/2024/05/12/escape-from-tarkov-event-brings-flea-market-changes-makes-labs-free/ on URL https://news.google.com/rss/articles/CBMid2h0dHBzOi8vd3d3LmZvcmJlcy5jb20vc2l0ZXMvbWlrZXN0dWJicy8yMDI0LzA1LzEyL2VzY2FwZS1mcm9tLXRhcmtvdi1ldmVudC1icmluZ3MtZmxlYS1tYXJrZXQtY2hhbmdlcy1tYWtlcy1sYWJzLWZyZWUv0gEA?oc=5&hl=en-US&gl=US&ceid=US:en\n",
      "185, 186, 187, An error occurred while fetching the article: Article `download()` failed with ('Connection aborted.', RemoteDisconnected('Remote end closed connection without response')) on URL https://news.google.com/rss/articles/CBMiRWh0dHBzOi8vd3d3LmFuZHJvaWRwb2xpY2UuY29tL2J1eS1nb29nbGUtcGl4ZWwtOC1vci13YWl0LWZvci1waXhlbC05L9IBAA?oc=5&hl=en-US&gl=US&ceid=US:en\n",
      "188, 189, 190, 191, 192, 193, 194, 195, 196, 197, 198, 199, 200, An error occurred while fetching the article: Article `download()` failed with 403 Client Error: Max restarts limit reached for url: https://www.forbes.com/sites/paultassi/2024/05/12/a-long-list-of-leaked-marvel-rivals-heroes-and-villains-to-come/ on URL https://news.google.com/rss/articles/CBMicmh0dHBzOi8vd3d3LmZvcmJlcy5jb20vc2l0ZXMvcGF1bHRhc3NpLzIwMjQvMDUvMTIvYS1sb25nLWxpc3Qtb2YtbGVha2VkLW1hcnZlbC1yaXZhbHMtaGVyb2VzLWFuZC12aWxsYWlucy10by1jb21lL9IBAA?oc=5&hl=en-US&gl=US&ceid=US:en\n",
      "201, 202, 203, 204, 205, 206, 207, An error occurred while fetching the article: Article `download()` failed with ('Connection aborted.', RemoteDisconnected('Remote end closed connection without response')) on URL https://news.google.com/rss/articles/CBMiWWh0dHBzOi8vZ2FtZXJhbnQuY29tL2FuaW1hbC13ZWxsLWJ1bm55LW11cmFsLXNvbHV0aW9uLXNlY3JldC1yYWJiaXQtcHV6emxlLWNvbnRyb2wtcGFuZWwv0gEA?oc=5&hl=en-US&gl=US&ceid=US:en\n",
      "208, 209, 210, 211, 212, 213, An error occurred while fetching the article: Article `download()` failed with 403 Client Error: Max restarts limit reached for url: https://www.forbes.com/sites/davidphelan/2024/05/11/apple-ipad-air-m1-just-dropped-to-record-low-prices-right-now/ on URL https://news.google.com/rss/articles/CBMicmh0dHBzOi8vd3d3LmZvcmJlcy5jb20vc2l0ZXMvZGF2aWRwaGVsYW4vMjAyNC8wNS8xMS9hcHBsZS1pcGFkLWFpci1tMS1qdXN0LWRyb3BwZWQtdG8tcmVjb3JkLWxvdy1wcmljZXMtcmlnaHQtbm93L9IBAA?oc=5&hl=en-US&gl=US&ceid=US:en\n",
      "214, 215, 216, 217, 218, 219, 220, 221, 222, 223, 224, 225, 226, 227, An error occurred while fetching the article: Article `download()` failed with 403 Client Error: Max restarts limit reached for url: https://www.forbes.com/sites/paultassi/2024/05/11/watch-kai-cenat-take-six-hours-to-beat-elden-rings-tree-sentinel/ on URL https://news.google.com/rss/articles/CBMic2h0dHBzOi8vd3d3LmZvcmJlcy5jb20vc2l0ZXMvcGF1bHRhc3NpLzIwMjQvMDUvMTEvd2F0Y2gta2FpLWNlbmF0LXRha2Utc2l4LWhvdXJzLXRvLWJlYXQtZWxkZW4tcmluZ3MtdHJlZS1zZW50aW5lbC_SAQA?oc=5&hl=en-US&gl=US&ceid=US:en\n",
      "228, 229, An error occurred while fetching the article: Article `download()` failed with 403 Client Error: Max restarts limit reached for url: https://www.forbes.com/sites/olliebarder/2024/05/11/the-life-size-proplica-master-sword-from-zelda-looks-incredible/ on URL https://news.google.com/rss/articles/CBMidGh0dHBzOi8vd3d3LmZvcmJlcy5jb20vc2l0ZXMvb2xsaWViYXJkZXIvMjAyNC8wNS8xMS90aGUtbGlmZS1zaXplLXByb3BsaWNhLW1hc3Rlci1zd29yZC1mcm9tLXplbGRhLWxvb2tzLWluY3JlZGlibGUv0gEA?oc=5&hl=en-US&gl=US&ceid=US:en\n",
      "230, 231, 232, 233, 234, 235, 236, 237, 238, 239, 240, 241, An error occurred while fetching the article: Article `download()` failed with HTTPSConnectionPool(host='www.trueachievements.com', port=443): Read timed out. (read timeout=7) on URL https://news.google.com/rss/articles/CBMiRWh0dHBzOi8vd3d3LnRydWVhY2hpZXZlbWVudHMuY29tL3BvbGwvNTY4ODUvcG9sbC1hY3RpdmlzaW9uLWdhbWUtcGFzc9IBAA?oc=5&hl=en-US&gl=US&ceid=US:en\n",
      "242, 243, An error occurred while fetching the article: Article `download()` failed with ('Connection aborted.', RemoteDisconnected('Remote end closed connection without response')) on URL https://news.google.com/rss/articles/CBMiUmh0dHBzOi8vd3d3LmFuZHJvaWRwb2xpY2UuY29tL2JyaW5nLXRoZS1zMjQtdWx0cmFzLWJlc3QtZmVhdHVyZS10by1hbnktczI0LW9yLXMyNC_SAQA?oc=5&hl=en-US&gl=US&ceid=US:en\n",
      "244, 245, 246, 247, 248, 249, 250, 251, 252, 253, 254, 255, 256, 257, 258, 259, 260, 261, 262, 263, 264, 265, An error occurred while fetching the article: Article `download()` failed with 429 Client Error: Unknown Error for url: https://ktla.com/news/local-news/from-sports-teams-to-television-networks-to-ktla-viewers-tributes-continue-to-pour-in-for-sam-rubin/ on URL https://news.google.com/rss/articles/CBMihQFodHRwczovL2t0bGEuY29tL25ld3MvbG9jYWwtbmV3cy9mcm9tLXNwb3J0cy10ZWFtcy10by10ZWxldmlzaW9uLW5ldHdvcmtzLXRvLWt0bGEtdmlld2Vycy10cmlidXRlcy1jb250aW51ZS10by1wb3VyLWluLWZvci1zYW0tcnViaW4v0gGJAWh0dHBzOi8va3RsYS5jb20vbmV3cy9sb2NhbC1uZXdzL2Zyb20tc3BvcnRzLXRlYW1zLXRvLXRlbGV2aXNpb24tbmV0d29ya3MtdG8ta3RsYS12aWV3ZXJzLXRyaWJ1dGVzLWNvbnRpbnVlLXRvLXBvdXItaW4tZm9yLXNhbS1ydWJpbi9hbXAv?oc=5&hl=en-US&gl=US&ceid=US:en\n",
      "266, 267, 268, 269, 270, 271, 272, 273, 274, 275, 276, 277, 278, 279, 280, 281, 282, 283, 284, 285, 286, 287, 288, 289, 290, 291, 292, 293, "
     ]
    },
    {
     "name": "stderr",
     "output_type": "stream",
     "text": [
      "05/13/2024 01:20:35 AM - newspaper ignoring lxml node error: Input object is not an XML element: HtmlProcessingInstruction\n",
      "05/13/2024 01:20:35 AM - newspaper ignoring lxml node error: Input object is not an XML element: HtmlProcessingInstruction\n",
      "05/13/2024 01:20:35 AM - newspaper ignoring lxml node error: Input object is not an XML element: HtmlProcessingInstruction\n"
     ]
    },
    {
     "name": "stdout",
     "output_type": "stream",
     "text": [
      "294, 295, 296, An error occurred while fetching the article: Article `download()` failed with 403 Client Error: Forbidden for url: https://www.houstonchronicle.com/texas-sports-nation/rockets/article/houston-rockets-nba-draft-no-3-pick-lottery-19453580.php on URL https://news.google.com/rss/articles/CBMifWh0dHBzOi8vd3d3LmhvdXN0b25jaHJvbmljbGUuY29tL3RleGFzLXNwb3J0cy1uYXRpb24vcm9ja2V0cy9hcnRpY2xlL2hvdXN0b24tcm9ja2V0cy1uYmEtZHJhZnQtbm8tMy1waWNrLWxvdHRlcnktMTk0NTM1ODAucGhw0gEA?oc=5&hl=en-US&gl=US&ceid=US:en\n",
      "297, 298, 299, 300, 301, 302, 303, 304, 305, 306, 307, 308, 309, 310, 311, 312, 313, 314, "
     ]
    },
    {
     "name": "stderr",
     "output_type": "stream",
     "text": [
      "05/13/2024 01:20:46 AM - newspaper ignoring lxml node error: Input object is not an XML element: HtmlProcessingInstruction\n",
      "05/13/2024 01:20:46 AM - newspaper ignoring lxml node error: Input object is not an XML element: HtmlProcessingInstruction\n",
      "05/13/2024 01:20:46 AM - newspaper ignoring lxml node error: Input object is not an XML element: HtmlProcessingInstruction\n"
     ]
    },
    {
     "name": "stdout",
     "output_type": "stream",
     "text": [
      "315, 316, 317, 318, 319, 320, An error occurred while fetching the article: Article `download()` failed with 403 Client Error: Forbidden for url: https://athlonsports.com/nba/wild-story-about-t-j-mcconnell-going-viral-after-pacers-huge-win-over-knicks on URL https://news.google.com/rss/articles/CBMiaWh0dHBzOi8vYXRobG9uc3BvcnRzLmNvbS9uYmEvd2lsZC1zdG9yeS1hYm91dC10LWotbWNjb25uZWxsLWdvaW5nLXZpcmFsLWFmdGVyLXBhY2Vycy1odWdlLXdpbi1vdmVyLWtuaWNrc9IBAA?oc=5&hl=en-US&gl=US&ceid=US:en\n",
      "321, 322, An error occurred while fetching the article: Article `download()` failed with 403 Client Error: Forbidden for url: https://www.oddschecker.com/us/picks-parlays/basketball/nba/20240512-new-york-knicks-vs-indiana-pacers-player-prop-pick-can-donte-divincenzo-put-up-points-in-game-4 on URL https://news.google.com/rss/articles/CBMipAFodHRwczovL3d3dy5vZGRzY2hlY2tlci5jb20vdXMvcGlja3MtcGFybGF5cy9iYXNrZXRiYWxsL25iYS8yMDI0MDUxMi1uZXcteW9yay1rbmlja3MtdnMtaW5kaWFuYS1wYWNlcnMtcGxheWVyLXByb3AtcGljay1jYW4tZG9udGUtZGl2aW5jZW56by1wdXQtdXAtcG9pbnRzLWluLWdhbWUtNNIBAA?oc=5&hl=en-US&gl=US&ceid=US:en\n",
      "323, 324, 325, 326, 327, An error occurred while fetching the article: Article `download()` failed with 401 Client Error: HTTP Forbidden for url: https://www.reuters.com/technology/space/spacexs-starship-sees-fourth-flight-3-5-weeks-musk-says-2024-05-11/ on URL https://news.google.com/rss/articles/CBMibGh0dHBzOi8vd3d3LnJldXRlcnMuY29tL3RlY2hub2xvZ3kvc3BhY2Uvc3BhY2V4cy1zdGFyc2hpcC1zZWVzLWZvdXJ0aC1mbGlnaHQtMy01LXdlZWtzLW11c2stc2F5cy0yMDI0LTA1LTExL9IBAA?oc=5&hl=en-US&gl=US&ceid=US:en\n",
      "328, 329, 330, 331, 332, 333, An error occurred while fetching the article: Article `download()` failed with HTTPSConnectionPool(host='www.seattletimes.com', port=443): Read timed out. (read timeout=7) on URL https://news.google.com/rss/articles/CBMiUmh0dHBzOi8vd3d3LnNlYXR0bGV0aW1lcy5jb20vbmF0aW9uLXdvcmxkL3dhcy10aGUtc3RvbmUtYWdlLWFjdHVhbGx5LXRoZS13b29kLWFnZS_SAQA?oc=5&hl=en-US&gl=US&ceid=US:en\n",
      "334, 335, An error occurred while fetching the article: Article `download()` failed with 429 Client Error: Unknown Error for url: https://www.nbc4i.com/news/u-s-world/nasa-aims-to-build-first-railway-system-on-moon/ on URL https://news.google.com/rss/articles/CBMiVWh0dHBzOi8vd3d3Lm5iYzRpLmNvbS9uZXdzL3Utcy13b3JsZC9uYXNhLWFpbXMtdG8tYnVpbGQtZmlyc3QtcmFpbHdheS1zeXN0ZW0tb24tbW9vbi_SAVlodHRwczovL3d3dy5uYmM0aS5jb20vbmV3cy91LXMtd29ybGQvbmFzYS1haW1zLXRvLWJ1aWxkLWZpcnN0LXJhaWx3YXktc3lzdGVtLW9uLW1vb24vYW1wLw?oc=5&hl=en-US&gl=US&ceid=US:en\n",
      "336, 337, 338, An error occurred while fetching the article: Article `download()` failed with 403 Client Error: Max restarts limit reached for url: https://www.forbes.com/sites/jamiecartereurope/2024/05/11/april-8s-total-solar-eclipse-will-repeat-exactly-54-years-today-heres-why-and-where/ on URL https://news.google.com/rss/articles/CBMijgFodHRwczovL3d3dy5mb3JiZXMuY29tL3NpdGVzL2phbWllY2FydGVyZXVyb3BlLzIwMjQvMDUvMTEvYXByaWwtOHMtdG90YWwtc29sYXItZWNsaXBzZS13aWxsLXJlcGVhdC1leGFjdGx5LTU0LXllYXJzLXRvZGF5LWhlcmVzLXdoeS1hbmQtd2hlcmUv0gEA?oc=5&hl=en-US&gl=US&ceid=US:en\n",
      "339, 340, 341, 342, 343, 344, 345, 346, 347, 348, 349, An error occurred while fetching the article: Article `download()` failed with 403 Client Error: Max restarts limit reached for url: https://www.forbes.com/sites/brucedorminey/2024/05/11/despite-global-climate-change-earth-is-surprisingly-carbon-poor/ on URL https://news.google.com/rss/articles/CBMidmh0dHBzOi8vd3d3LmZvcmJlcy5jb20vc2l0ZXMvYnJ1Y2Vkb3JtaW5leS8yMDI0LzA1LzExL2Rlc3BpdGUtZ2xvYmFsLWNsaW1hdGUtY2hhbmdlLWVhcnRoLWlzLXN1cnByaXNpbmdseS1jYXJib24tcG9vci_SAQA?oc=5&hl=en-US&gl=US&ceid=US:en\n",
      "350, 351, 352, 353, 354, 355, 356, 357, 358, 359, "
     ]
    },
    {
     "name": "stderr",
     "output_type": "stream",
     "text": [
      "05/13/2024 01:21:19 AM - newspaper ignoring lxml node error: Input object is not an XML element: HtmlProcessingInstruction\n"
     ]
    },
    {
     "name": "stdout",
     "output_type": "stream",
     "text": [
      "360, 361, 362, 363, 364, 365, 366, 367, 368, 369, 370, 371, 372, 373, An error occurred while fetching the article: Article `download()` failed with 429 Client Error: Unknown Error for url: https://thehill.com/homenews/nexstar_media_wire/4653747-will-your-last-covid-vaccine-work-against-new-flirt-variants/ on URL https://news.google.com/rss/articles/CBMidWh0dHBzOi8vdGhlaGlsbC5jb20vaG9tZW5ld3MvbmV4c3Rhcl9tZWRpYV93aXJlLzQ2NTM3NDctd2lsbC15b3VyLWxhc3QtY292aWQtdmFjY2luZS13b3JrLWFnYWluc3QtbmV3LWZsaXJ0LXZhcmlhbnRzL9IBeWh0dHBzOi8vdGhlaGlsbC5jb20vaG9tZW5ld3MvbmV4c3Rhcl9tZWRpYV93aXJlLzQ2NTM3NDctd2lsbC15b3VyLWxhc3QtY292aWQtdmFjY2luZS13b3JrLWFnYWluc3QtbmV3LWZsaXJ0LXZhcmlhbnRzL2FtcC8?oc=5&hl=en-US&gl=US&ceid=US:en\n",
      "374, 375, 376, 377, 378, 379, 380, 381, 382, 383, 384, 385, 386, 387, 388, 389, 390, 391, An error occurred while fetching the article: Article `download()` failed with 403 Client Error: Forbidden for url: https://www.sfchronicle.com/health/article/covid-dodgers-immune-or-lucky-19451083.php on URL https://news.google.com/rss/articles/CBMiVWh0dHBzOi8vd3d3LnNmY2hyb25pY2xlLmNvbS9oZWFsdGgvYXJ0aWNsZS9jb3ZpZC1kb2RnZXJzLWltbXVuZS1vci1sdWNreS0xOTQ1MTA4My5waHDSAQA?oc=5&hl=en-US&gl=US&ceid=US:en\n",
      "392, 393, 394, 395, 396, 397, 398, 399, 400, 401, 402, 403, 404, 405, 406, 407, 408, 409, 410, 411, 412, 413, 414, 415, 416, 417, 418, 419, 420, 421, 422, 423, 424, 425, 426, 427, 428, 429, 430, "
     ]
    }
   ],
   "source": [
    "articles = []\n",
    "for topic in topics:\n",
    "    json_resp = google_news.get_news_by_topic(topic)\n",
    "    for resp in json_resp:\n",
    "        try:\n",
    "            article = google_news.get_full_article(resp['url'])\n",
    "        except:\n",
    "            continue\n",
    "        articles.append(article)\n",
    "        print(len(articles), end = ', ')"
   ]
  },
  {
   "cell_type": "code",
   "execution_count": 6,
   "id": "a87f8b79-5a13-4be0-8539-f0125af9051b",
   "metadata": {},
   "outputs": [
    {
     "data": {
      "text/plain": [
       "430"
      ]
     },
     "execution_count": 6,
     "metadata": {},
     "output_type": "execute_result"
    }
   ],
   "source": [
    "len(articles)"
   ]
  },
  {
   "cell_type": "code",
   "execution_count": 29,
   "id": "37aab7c7-2298-43d5-972c-d6075eba2116",
   "metadata": {},
   "outputs": [],
   "source": [
    "news = []\n",
    "urls = []"
   ]
  },
  {
   "cell_type": "code",
   "execution_count": 30,
   "id": "e37b3062-a7ae-400f-b3b9-59535891b234",
   "metadata": {},
   "outputs": [],
   "source": [
    "for i in articles:\n",
    "    if i is not None:\n",
    "        if len(i.text) > 0:\n",
    "            news.append(i.text)\n",
    "            urls.append(i.canonical_link)"
   ]
  },
  {
   "cell_type": "code",
   "execution_count": 31,
   "id": "0d330d80-d3d9-4a8b-8906-ad80953a5b33",
   "metadata": {},
   "outputs": [],
   "source": [
    "def clean_text(text):\n",
    "    # Remove HTML tags\n",
    "    clean = re.sub(r'<.*?>', '', text)\n",
    "    \n",
    "    # Decode HTML entities\n",
    "    clean = unescape(clean)\n",
    "    \n",
    "    # Replace URLs with a space\n",
    "    clean = re.sub(r'http[s]?://\\S+', '', clean)\n",
    "    \n",
    "    # Remove all non-alphanumeric characters (optional: keep periods and commas)\n",
    "    clean = re.sub(r'[^a-zA-Z0-9\\s.,]', '', clean)\n",
    "    \n",
    "    # Replace multiple spaces with a single space\n",
    "    clean = re.sub(r'\\s+', ' ', clean).strip()\n",
    "    \n",
    "    return clean"
   ]
  },
  {
   "cell_type": "code",
   "execution_count": 32,
   "id": "df9a291f-6b50-4d5e-829b-db08fa4947a5",
   "metadata": {},
   "outputs": [],
   "source": [
    "clean_articles = [clean_text(article) for article in news]"
   ]
  },
  {
   "cell_type": "code",
   "execution_count": 33,
   "id": "cfa5b437-6030-4122-b67d-0e4fa2183ea8",
   "metadata": {},
   "outputs": [],
   "source": [
    "df = pd.DataFrame({\n",
    "    'news': clean_articles,\n",
    "    'url': urls\n",
    "})"
   ]
  },
  {
   "cell_type": "code",
   "execution_count": 34,
   "id": "1efd69c5-4ef7-4630-b435-4f15f625b543",
   "metadata": {},
   "outputs": [
    {
     "data": {
      "text/html": [
       "<div>\n",
       "<style scoped>\n",
       "    .dataframe tbody tr th:only-of-type {\n",
       "        vertical-align: middle;\n",
       "    }\n",
       "\n",
       "    .dataframe tbody tr th {\n",
       "        vertical-align: top;\n",
       "    }\n",
       "\n",
       "    .dataframe thead th {\n",
       "        text-align: right;\n",
       "    }\n",
       "</style>\n",
       "<table border=\"1\" class=\"dataframe\">\n",
       "  <thead>\n",
       "    <tr style=\"text-align: right;\">\n",
       "      <th></th>\n",
       "      <th>news</th>\n",
       "      <th>url</th>\n",
       "    </tr>\n",
       "  </thead>\n",
       "  <tbody>\n",
       "    <tr>\n",
       "      <th>0</th>\n",
       "      <td>CNN Russian President Vladimir Putin has repla...</td>\n",
       "      <td>https://www.cnn.com/2024/05/12/europe/sergei-s...</td>\n",
       "    </tr>\n",
       "    <tr>\n",
       "      <th>1</th>\n",
       "      <td>Ukraines top military commander admitted on Su...</td>\n",
       "      <td>https://www.theguardian.com/world/article/2024...</td>\n",
       "    </tr>\n",
       "    <tr>\n",
       "      <th>2</th>\n",
       "      <td>Israel faces Iranianbacked Hamas to the south ...</td>\n",
       "      <td>https://www.cbsnews.com/news/israel-preparing-...</td>\n",
       "    </tr>\n",
       "    <tr>\n",
       "      <th>3</th>\n",
       "      <td>Protesters are angry at government efforts to ...</td>\n",
       "      <td>https://www.aljazeera.com/news/2024/5/13/thous...</td>\n",
       "    </tr>\n",
       "    <tr>\n",
       "      <th>4</th>\n",
       "      <td>An apartment building partially collapsed in t...</td>\n",
       "      <td>https://apnews.com/article/russia-belgorod-she...</td>\n",
       "    </tr>\n",
       "    <tr>\n",
       "      <th>...</th>\n",
       "      <td>...</td>\n",
       "      <td>...</td>\n",
       "    </tr>\n",
       "    <tr>\n",
       "      <th>360</th>\n",
       "      <td>Lots of people vape, but one doctor has weighe...</td>\n",
       "      <td>https://www.ladbible.com/news/health/vape-equi...</td>\n",
       "    </tr>\n",
       "    <tr>\n",
       "      <th>361</th>\n",
       "      <td>Obese people are up to twice as likely to take...</td>\n",
       "      <td>https://www.thetimes.co.uk/article/obese-peopl...</td>\n",
       "    </tr>\n",
       "    <tr>\n",
       "      <th>362</th>\n",
       "      <td>Sign up to our free Living Well email for advi...</td>\n",
       "      <td>https://www.independent.co.uk/health-and-wellb...</td>\n",
       "    </tr>\n",
       "    <tr>\n",
       "      <th>363</th>\n",
       "      <td>Under a microscope, the cells on threeyearold ...</td>\n",
       "      <td>https://www.dailymail.co.uk/femail/article-133...</td>\n",
       "    </tr>\n",
       "    <tr>\n",
       "      <th>364</th>\n",
       "      <td>Studies have shown that chamomile has a positi...</td>\n",
       "      <td>https://www.wionews.com/web-stories/life-fun/h...</td>\n",
       "    </tr>\n",
       "  </tbody>\n",
       "</table>\n",
       "<p>365 rows × 2 columns</p>\n",
       "</div>"
      ],
      "text/plain": [
       "                                                  news  \\\n",
       "0    CNN Russian President Vladimir Putin has repla...   \n",
       "1    Ukraines top military commander admitted on Su...   \n",
       "2    Israel faces Iranianbacked Hamas to the south ...   \n",
       "3    Protesters are angry at government efforts to ...   \n",
       "4    An apartment building partially collapsed in t...   \n",
       "..                                                 ...   \n",
       "360  Lots of people vape, but one doctor has weighe...   \n",
       "361  Obese people are up to twice as likely to take...   \n",
       "362  Sign up to our free Living Well email for advi...   \n",
       "363  Under a microscope, the cells on threeyearold ...   \n",
       "364  Studies have shown that chamomile has a positi...   \n",
       "\n",
       "                                                   url  \n",
       "0    https://www.cnn.com/2024/05/12/europe/sergei-s...  \n",
       "1    https://www.theguardian.com/world/article/2024...  \n",
       "2    https://www.cbsnews.com/news/israel-preparing-...  \n",
       "3    https://www.aljazeera.com/news/2024/5/13/thous...  \n",
       "4    https://apnews.com/article/russia-belgorod-she...  \n",
       "..                                                 ...  \n",
       "360  https://www.ladbible.com/news/health/vape-equi...  \n",
       "361  https://www.thetimes.co.uk/article/obese-peopl...  \n",
       "362  https://www.independent.co.uk/health-and-wellb...  \n",
       "363  https://www.dailymail.co.uk/femail/article-133...  \n",
       "364  https://www.wionews.com/web-stories/life-fun/h...  \n",
       "\n",
       "[365 rows x 2 columns]"
      ]
     },
     "execution_count": 34,
     "metadata": {},
     "output_type": "execute_result"
    }
   ],
   "source": [
    "df"
   ]
  },
  {
   "cell_type": "code",
   "execution_count": 35,
   "id": "9bb21d01-1ef6-4f12-bf8a-06ab1e12c99d",
   "metadata": {},
   "outputs": [],
   "source": [
    "df.to_csv('gnews.csv', index=False)"
   ]
  },
  {
   "cell_type": "code",
   "execution_count": null,
   "id": "bc359939-fa34-4bf0-ac79-b5753d7638a5",
   "metadata": {},
   "outputs": [],
   "source": []
  }
 ],
 "metadata": {
  "kernelspec": {
   "display_name": "Python 3 (ipykernel)",
   "language": "python",
   "name": "python3"
  },
  "language_info": {
   "codemirror_mode": {
    "name": "ipython",
    "version": 3
   },
   "file_extension": ".py",
   "mimetype": "text/x-python",
   "name": "python",
   "nbconvert_exporter": "python",
   "pygments_lexer": "ipython3",
   "version": "3.9.6"
  }
 },
 "nbformat": 4,
 "nbformat_minor": 5
}
