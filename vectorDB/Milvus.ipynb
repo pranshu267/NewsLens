{
 "cells": [
  {
   "cell_type": "code",
   "execution_count": 1,
   "id": "98a7f6ef-74ec-4c16-8458-ea59595961bd",
   "metadata": {},
   "outputs": [],
   "source": [
    "import sys, os, time, pprint\n",
    "import numpy as np"
   ]
  },
  {
   "cell_type": "code",
   "execution_count": 31,
   "id": "cda857f8-5f6a-457c-8ec4-900a8c03ac39",
   "metadata": {},
   "outputs": [],
   "source": [
    "from langchain_community.document_loaders.csv_loader import CSVLoader\n",
    "\n",
    "loader = CSVLoader(file_path=\"gnews.csv\", source_column=\"news\")\n",
    "\n",
    "docs = loader.load()"
   ]
  },
  {
   "cell_type": "code",
   "execution_count": 32,
   "id": "dd09f4a3-47cd-48f8-a4bb-8d57b25869ce",
   "metadata": {},
   "outputs": [
    {
     "name": "stdout",
     "output_type": "stream",
     "text": [
      "loaded 365 documents\n"
     ]
    }
   ],
   "source": [
    "num_documents = len(docs)\n",
    "print(f\"loaded {num_documents} documents\")"
   ]
  },
  {
   "cell_type": "code",
   "execution_count": 45,
   "id": "6c93d282-21fe-4323-b3de-c210c9824244",
   "metadata": {},
   "outputs": [
    {
     "data": {
      "text/plain": [
       "Document(page_content='news: CNN Russian President Vladimir Putin has replaced his defense minister and close ally Sergei Shoigu with a civilian economist, a major reshuffle of military leadership more than twoyears after Moscows grinding war against Ukraine has sent defense spending soaring. Andrey Belousov, a civilian who served as former first deputy prime minister and specializes in economics, was appointed to the top defense post, Kremlin spokesperson Dmitry Peskov said on Sunday. Shoigu was relieved of his position by presidential decree, Peskov said, but he will remain an influential part of Putins administration as Secretary of Russias Security Council, replacing former FSB head Nikolai Patrushev, who would transfer to another job. Shoigu will also become deputy in Russias MilitaryIndustrial Commission, Peskov said, as Putin embarks on a fifth term as president. The shakeup comes as Russia launched its most serious crossborder ground assault since Ukraine recaptured the northern Kharkiv region in the late summer of 2022. It also comes after several months of increased Russian air attacks on the city of Kharkiv and amid a grinding advance in Donetsk in the east that has seen incremental but significant progress. Shoigu had helmed the countrys defense ministry for 12 years and led the invasion of Ukraine in 2022. Russian troops initially caught Kyiv by surprise but were soon beaten back, exposing the weaknesses of Moscows corruptionriddled military and its willingness to send waves of poorly trained and equipped soldiers into what Ukraine and Russian troops have both dubbed a meat grinder. His critics have frequently described Shoigu as remote and outoftouch with the realities of the conflict. His most forceful critic was the late Wagner chief Yevgeny Prigozhin who accused the Defense Ministry of starving his fighters of resources and bureaucratic incompetence before launching an unsuccessful mutiny last year and dying weeks later in a plane crash. Rising military spending and need for innovation Belousov was selected by Putin because of a need for innovation, Peskov said in a press call, during which he highlighted the ministrys rising budget, saying it was approaching levels last seen during the Cold War. Today on the battlefield, the winner is the one who is more open to innovation, Peskov said. Therefore, it is natural that at the current stage, the president decided that the Russian Ministry of Defense should be headed by a civilian. In a reference to the war in Ukraine, Peskov said that due to wellknown geopolitical circumstances, we are gradually approaching the situation of the mid80s when the share of expenses for the security bloc in the economy was 7.4. Its not critical, but its extremely important, Peskov said. The budget currently amounts to 6.7 of GDP, he said. Peskov highlighted Belousovs previous leadership experience and economic background. This is not just a civilian, but a person who very successfully headed the Ministry of Economic Development of Russia, for a long time he was aide to the president on economic issues, and was also the first deputy chairman of the government in the previous cabinet of ministers, Peskov said. Peskov added that the new appointment did not signal a shift in Russias current military system. As for the military component, this appointment will in no way change the current coordinate systems. The military component has always been the prerogative of the Chief of the General Staff Valery Gerasimov, and he will continue his activities. No changes are currently envisaged in this regard, he said. In his new role, Shoigu will oversee Russias military industrial complex, Peskov said. He is deeply immersed in this work, he knows very well the pace of production of militaryindustrial products at specific enterprises and often visits these enterprises, he said. The news follows the arrest last month of one of Shoigus close allies, deputy defense minister Timur Ivanov, who was charged with taking a bribe in what was the countrys highestprofile corruption scandal since Putin launched his invasion of Ukraine more than two years ago. Ivanov has been accused of accepting a bribe of 1 million rubles at least 10,800, according to Russian state media TASS. Former US Secretary of Defense Mark Esper told CNN in an interview Sunday that Putins reshuffle is an important and interesting move. The bigger argument coming out of Moscow right now is that Russia is moving toward a war economy, he said. Theyre on a war footing. Esper said that one of the disappointing things about Shoigus tenure is we thought the Russian army, at least during my time at the Pentagon, we thought they were professionalizing, that they were modernizing all their equipment, their doctrine, how they train and fight, and we really havent seen that on the battlefield. This is a developing story and will be updated.\\nurl: https://www.cnn.com/2024/05/12/europe/sergei-shoigu-putin-replaces-defense-minister-intl-latam/index.html', metadata={'source': 'CNN Russian President Vladimir Putin has replaced his defense minister and close ally Sergei Shoigu with a civilian economist, a major reshuffle of military leadership more than twoyears after Moscows grinding war against Ukraine has sent defense spending soaring. Andrey Belousov, a civilian who served as former first deputy prime minister and specializes in economics, was appointed to the top defense post, Kremlin spokesperson Dmitry Peskov said on Sunday. Shoigu was relieved of his position by presidential decree, Peskov said, but he will remain an influential part of Putins administration as Secretary of Russias Security Council, replacing former FSB head Nikolai Patrushev, who would transfer to another job. Shoigu will also become deputy in Russias MilitaryIndustrial Commission, Peskov said, as Putin embarks on a fifth term as president. The shakeup comes as Russia launched its most serious crossborder ground assault since Ukraine recaptured the northern Kharkiv region in the late summer of 2022. It also comes after several months of increased Russian air attacks on the city of Kharkiv and amid a grinding advance in Donetsk in the east that has seen incremental but significant progress. Shoigu had helmed the countrys defense ministry for 12 years and led the invasion of Ukraine in 2022. Russian troops initially caught Kyiv by surprise but were soon beaten back, exposing the weaknesses of Moscows corruptionriddled military and its willingness to send waves of poorly trained and equipped soldiers into what Ukraine and Russian troops have both dubbed a meat grinder. His critics have frequently described Shoigu as remote and outoftouch with the realities of the conflict. His most forceful critic was the late Wagner chief Yevgeny Prigozhin who accused the Defense Ministry of starving his fighters of resources and bureaucratic incompetence before launching an unsuccessful mutiny last year and dying weeks later in a plane crash. Rising military spending and need for innovation Belousov was selected by Putin because of a need for innovation, Peskov said in a press call, during which he highlighted the ministrys rising budget, saying it was approaching levels last seen during the Cold War. Today on the battlefield, the winner is the one who is more open to innovation, Peskov said. Therefore, it is natural that at the current stage, the president decided that the Russian Ministry of Defense should be headed by a civilian. In a reference to the war in Ukraine, Peskov said that due to wellknown geopolitical circumstances, we are gradually approaching the situation of the mid80s when the share of expenses for the security bloc in the economy was 7.4. Its not critical, but its extremely important, Peskov said. The budget currently amounts to 6.7 of GDP, he said. Peskov highlighted Belousovs previous leadership experience and economic background. This is not just a civilian, but a person who very successfully headed the Ministry of Economic Development of Russia, for a long time he was aide to the president on economic issues, and was also the first deputy chairman of the government in the previous cabinet of ministers, Peskov said. Peskov added that the new appointment did not signal a shift in Russias current military system. As for the military component, this appointment will in no way change the current coordinate systems. The military component has always been the prerogative of the Chief of the General Staff Valery Gerasimov, and he will continue his activities. No changes are currently envisaged in this regard, he said. In his new role, Shoigu will oversee Russias military industrial complex, Peskov said. He is deeply immersed in this work, he knows very well the pace of production of militaryindustrial products at specific enterprises and often visits these enterprises, he said. The news follows the arrest last month of one of Shoigus close allies, deputy defense minister Timur Ivanov, who was charged with taking a bribe in what was the countrys highestprofile corruption scandal since Putin launched his invasion of Ukraine more than two years ago. Ivanov has been accused of accepting a bribe of 1 million rubles at least 10,800, according to Russian state media TASS. Former US Secretary of Defense Mark Esper told CNN in an interview Sunday that Putins reshuffle is an important and interesting move. The bigger argument coming out of Moscow right now is that Russia is moving toward a war economy, he said. Theyre on a war footing. Esper said that one of the disappointing things about Shoigus tenure is we thought the Russian army, at least during my time at the Pentagon, we thought they were professionalizing, that they were modernizing all their equipment, their doctrine, how they train and fight, and we really havent seen that on the battlefield. This is a developing story and will be updated.', 'row': 0})"
      ]
     },
     "execution_count": 45,
     "metadata": {},
     "output_type": "execute_result"
    }
   ],
   "source": [
    "docs[0]"
   ]
  },
  {
   "cell_type": "code",
   "execution_count": 33,
   "id": "6ad762d3-8a52-4e2a-9c96-76c57c7bd87f",
   "metadata": {},
   "outputs": [
    {
     "name": "stdout",
     "output_type": "stream",
     "text": [
      "pymilvus version: 2.4.1\n",
      "Type of server: Zilliz Cloud Vector Database(Compatible with Milvus 2.3)\n"
     ]
    }
   ],
   "source": [
    "import os\n",
    "import pymilvus\n",
    "print(f\"pymilvus version: {pymilvus.__version__}\")\n",
    "from pymilvus import connections, utility\n",
    "TOKEN = \"54cf1327985f3196180bd468479b0b226780034e860ed0864db2b961d76e300d2c842a1473fe28321d8e86d4806ccb8584dfbcd5\"\n",
    "CLUSTER_ENDPOINT=\"https://in03-1a9964c822484de.api.gcp-us-west1.zillizcloud.com:443\"\n",
    "\n",
    "connections.connect(\n",
    "  alias='default',\n",
    "  #  Public endpoint obtained from Zilliz Cloud\n",
    "  uri=CLUSTER_ENDPOINT,\n",
    "  # API key or a colon-separated cluster username and password\n",
    "  token=TOKEN,\n",
    ")\n",
    "\n",
    "# Use no-schema Milvus client uses flexible json key:value format.\n",
    "# https://milvus.io/docs/using_milvusclient.md\n",
    "mc = MilvusClient(\n",
    "    uri=CLUSTER_ENDPOINT,\n",
    "    # API key or a colon-separated cluster username and password\n",
    "    token=TOKEN)\n",
    "\n",
    "# Check if the server is ready and get colleciton name.\n",
    "print(f\"Type of server: {utility.get_server_version()}\")"
   ]
  },
  {
   "cell_type": "code",
   "execution_count": 15,
   "id": "4207538d-9ef3-4dad-9ab5-e7b05ac7639e",
   "metadata": {},
   "outputs": [
    {
     "name": "stdout",
     "output_type": "stream",
     "text": [
      "device: cpu\n"
     ]
    },
    {
     "name": "stderr",
     "output_type": "stream",
     "text": [
      "/Users/suprateek/PycharmProjects/Deep-Learning-Project/venv/lib/python3.9/site-packages/tqdm/auto.py:21: TqdmWarning: IProgress not found. Please update jupyter and ipywidgets. See https://ipywidgets.readthedocs.io/en/stable/user_install.html\n",
      "  from .autonotebook import tqdm as notebook_tqdm\n",
      "Fetching 30 files: 100%|████████████████████████████████████████████████████████████████████████████████████████████████████████████████████████████████████████████████████████████████| 30/30 [00:51<00:00,  1.71s/it]\n"
     ]
    },
    {
     "name": "stdout",
     "output_type": "stream",
     "text": [
      "dense_dim: 1024\n",
      "sparse_dim: 250002\n",
      "colbert_dim: 1024\n"
     ]
    }
   ],
   "source": [
    "from pymilvus.model.hybrid import BGEM3EmbeddingFunction\n",
    "import torch\n",
    "\n",
    "# Initialize torch settings\n",
    "DEVICE = torch.device('cuda:3' if torch.cuda.is_available() else 'cpu')\n",
    "print(f\"device: {DEVICE}\")\n",
    "\n",
    "# Initialize a Milvus built-in sparse-dense-reranking encoder.\n",
    "# https://huggingface.co/BAAI/bge-m3\n",
    "embedding_model = BGEM3EmbeddingFunction(use_fp16=False, device=DEVICE)\n",
    "EMBEDDING_DIM = embedding_model.dim['dense']\n",
    "print(f\"dense_dim: {EMBEDDING_DIM}\")\n",
    "print(f\"sparse_dim: {embedding_model.dim['sparse']}\")\n",
    "print(f\"colbert_dim: {embedding_model.dim['colbert_vecs']}\")"
   ]
  },
  {
   "cell_type": "code",
   "execution_count": 42,
   "id": "d215f65f-8a5c-4efc-bbb4-6d32de9b2cbd",
   "metadata": {},
   "outputs": [
    {
     "name": "stdout",
     "output_type": "stream",
     "text": [
      "Successfully dropped collection: `news`\n",
      "Successfully created collection: `news`\n"
     ]
    }
   ],
   "source": [
    "from pymilvus import MilvusClient\n",
    "\n",
    "# Set the Milvus collection name.\n",
    "COLLECTION_NAME = \"news\"\n",
    "\n",
    "# Specify the data schema for the new Collection.\n",
    "MAX_LENGTH = 65535\n",
    "fields = [\n",
    "    # Use auto generated id as primary key\n",
    "    FieldSchema(name=\"id\", dtype=DataType.INT64,\n",
    "                is_primary=True, auto_id=True, max_length=100),\n",
    "    # FieldSchema(name=\"sparse_vector\", dtype=DataType.SPARSE_FLOAT_VECTOR),\n",
    "    FieldSchema(name=\"dense_vector\", dtype=DataType.FLOAT_VECTOR,\n",
    "                dim=EMBEDDING_DIM),\n",
    "    FieldSchema(name=\"chunk\", dtype=DataType.VARCHAR, max_length=MAX_LENGTH),\n",
    "    FieldSchema(name=\"news\", dtype=DataType.VARCHAR, max_length=MAX_LENGTH),\n",
    "]\n",
    "schema = CollectionSchema(fields, \"\")\n",
    "\n",
    "# Check if collection already exists, if so drop it.\n",
    "has = utility.has_collection(COLLECTION_NAME)\n",
    "if has:\n",
    "    drop_result = utility.drop_collection(COLLECTION_NAME)\n",
    "    print(f\"Successfully dropped collection: `{COLLECTION_NAME}`\")\n",
    "\n",
    "# Create the collection.\n",
    "schema = CollectionSchema(fields, \"\")\n",
    "col = Collection(COLLECTION_NAME, schema, consistency_level=\"Eventually\")\n",
    "\n",
    "# Add custom HNSW search index to the collection.\n",
    "# M = max number graph connections per layer. Large M = denser graph.\n",
    "# Choice of M: 4~64, larger M for larger data and larger embedding lengths.\n",
    "M = 16\n",
    "# efConstruction = num_candidate_nearest_neighbors per layer. \n",
    "# Use Rule of thumb: int. 8~512, efConstruction = M * 2.\n",
    "efConstruction = M * 2\n",
    "# Create the search index for local Milvus server.\n",
    "INDEX_PARAMS = dict({\n",
    "    'M': M,               \n",
    "    \"efConstruction\": efConstruction })\n",
    "\n",
    "# Create indices for the vector fields. \n",
    "# The indices will pre-load data into memory for efficient search.\n",
    "# sparse_index = {\"index_type\": \"SPARSE_INVERTED_INDEX\", \"metric_type\": \"IP\"}\n",
    "dense_index = {\"index_type\": \"HNSW\", \"metric_type\": \"COSINE\", \"params\": INDEX_PARAMS}\n",
    "# col.create_index(\"sparse_vector\", sparse_index)\n",
    "col.create_index(\"dense_vector\", dense_index)\n",
    "col.load()\n",
    "\n",
    "print(f\"Successfully created collection: `{COLLECTION_NAME}`\")"
   ]
  },
  {
   "cell_type": "code",
   "execution_count": 35,
   "id": "b996b878-c8a6-4119-8112-8bc1e7509a9b",
   "metadata": {},
   "outputs": [
    {
     "name": "stdout",
     "output_type": "stream",
     "text": [
      "chunk_size: 300, chunk_overlap: 30.0\n",
      "chunking time: 112.8498809337616\n",
      "docs: 365, split into: 365\n",
      "split into chunks: 5535, type: list of <class 'langchain_core.documents.base.Document'>\n",
      "\n",
      "Looking at a sample chunk...\n",
      "news: CNN Russian President Vladimir Putin has replaced his defense minister and close ally Sergei S\n",
      "{'source': 'CNN Russian President Vladimir Putin has replaced his defense minister and close ally Sergei Shoigu with a civilian economist, a major reshuffle of military leadership more than twoyears after Moscows grinding war against Ukraine has sent defense spending soaring. Andrey Belousov, a civilian who served as former first deputy prime minister and specializes in economics, was appointed to the top defense post, Kremlin spokesperson Dmitry Peskov said on Sunday. Shoigu was relieved of his position by presidential decree, Peskov said, but he will remain an influential part of Putins administration as Secretary of Russias Security Council, replacing former FSB head Nikolai Patrushev, who would transfer to another job. Shoigu will also become deputy in Russias MilitaryIndustrial Commission, Peskov said, as Putin embarks on a fifth term as president. The shakeup comes as Russia launched its most serious crossborder ground assault since Ukraine recaptured the northern Kharkiv region in the late summer of 2022. It also comes after several months of increased Russian air attacks on the city of Kharkiv and amid a grinding advance in Donetsk in the east that has seen incremental but significant progress. Shoigu had helmed the countrys defense ministry for 12 years and led the invasion of Ukraine in 2022. Russian troops initially caught Kyiv by surprise but were soon beaten back, exposing the weaknesses of Moscows corruptionriddled military and its willingness to send waves of poorly trained and equipped soldiers into what Ukraine and Russian troops have both dubbed a meat grinder. His critics have frequently described Shoigu as remote and outoftouch with the realities of the conflict. His most forceful critic was the late Wagner chief Yevgeny Prigozhin who accused the Defense Ministry of starving his fighters of resources and bureaucratic incompetence before launching an unsuccessful mutiny last year and dying weeks later in a plane crash. Rising military spending and need for innovation Belousov was selected by Putin because of a need for innovation, Peskov said in a press call, during which he highlighted the ministrys rising budget, saying it was approaching levels last seen during the Cold War. Today on the battlefield, the winner is the one who is more open to innovation, Peskov said. Therefore, it is natural that at the current stage, the president decided that the Russian Ministry of Defense should be headed by a civilian. In a reference to the war in Ukraine, Peskov said that due to wellknown geopolitical circumstances, we are gradually approaching the situation of the mid80s when the share of expenses for the security bloc in the economy was 7.4. Its not critical, but its extremely important, Peskov said. The budget currently amounts to 6.7 of GDP, he said. Peskov highlighted Belousovs previous leadership experience and economic background. This is not just a civilian, but a person who very successfully headed the Ministry of Economic Development of Russia, for a long time he was aide to the president on economic issues, and was also the first deputy chairman of the government in the previous cabinet of ministers, Peskov said. Peskov added that the new appointment did not signal a shift in Russias current military system. As for the military component, this appointment will in no way change the current coordinate systems. The military component has always been the prerogative of the Chief of the General Staff Valery Gerasimov, and he will continue his activities. No changes are currently envisaged in this regard, he said. In his new role, Shoigu will oversee Russias military industrial complex, Peskov said. He is deeply immersed in this work, he knows very well the pace of production of militaryindustrial products at specific enterprises and often visits these enterprises, he said. The news follows the arrest last month of one of Shoigus close allies, deputy defense minister Timur Ivanov, who was charged with taking a bribe in what was the countrys highestprofile corruption scandal since Putin launched his invasion of Ukraine more than two years ago. Ivanov has been accused of accepting a bribe of 1 million rubles at least 10,800, according to Russian state media TASS. Former US Secretary of Defense Mark Esper told CNN in an interview Sunday that Putins reshuffle is an important and interesting move. The bigger argument coming out of Moscow right now is that Russia is moving toward a war economy, he said. Theyre on a war footing. Esper said that one of the disappointing things about Shoigus tenure is we thought the Russian army, at least during my time at the Pentagon, we thought they were professionalizing, that they were modernizing all their equipment, their doctrine, how they train and fight, and we really havent seen that on the battlefield. This is a developing story and will be updated.', 'row': 0}\n"
     ]
    }
   ],
   "source": [
    "# # STEP 4. PREPARE DATA: CHUNK AND EMBED\n",
    "from langchain_community.document_transformers import BeautifulSoupTransformer\n",
    "from langchain.text_splitter import RecursiveCharacterTextSplitter\n",
    "\n",
    "# Define chunk size 512 and overlap 10% chunk_size.\n",
    "chunk_size = 300\n",
    "chunk_overlap = np.round(chunk_size * 0.10, 0)\n",
    "print(f\"chunk_size: {chunk_size}, chunk_overlap: {chunk_overlap}\")\n",
    "\n",
    "# Create an instance of the RecursiveCharacterTextSplitter\n",
    "child_splitter = RecursiveCharacterTextSplitter(\n",
    "    chunk_size = chunk_size,\n",
    "    chunk_overlap = chunk_overlap,\n",
    "    length_function = len,  # using built-in Python len function\n",
    ")\n",
    "\n",
    "# Split the documents further into smaller, recursive chunks.\n",
    "chunks = child_splitter.split_documents(docs)\n",
    "\n",
    "end_time = time.time()\n",
    "print(f\"chunking time: {end_time - start_time}\")\n",
    "print(f\"docs: {len(docs)}, split into: {len(html_header_splits)}\")\n",
    "print(f\"split into chunks: {len(chunks)}, type: list of {type(chunks[0])}\") \n",
    "\n",
    "# Inspect a chunk.\n",
    "print()\n",
    "print(\"Looking at a sample chunk...\")\n",
    "print(chunks[0].page_content[:100])\n",
    "print(chunks[0].metadata)\n",
    "\n",
    "# # TODO - Uncomment to print child splits with their associated header metadata for debugging.\n",
    "# print()\n",
    "# for child in chunks:\n",
    "#     print(f\"Content: {child.page_content}\")\n",
    "#     print(f\"Metadata: {child.metadata}\")\n",
    "#     print()"
   ]
  },
  {
   "cell_type": "code",
   "execution_count": 36,
   "id": "cf2be9d6-0b33-4115-9c57-16cc3cb1e083",
   "metadata": {},
   "outputs": [
    {
     "name": "stderr",
     "output_type": "stream",
     "text": [
      "Inference Embeddings: 100%|███████████████████████████████████████████████████████████████████████████████████████████████████████████████████████████████████████████████████████████| 346/346 [22:56<00:00,  3.98s/it]\n"
     ]
    },
    {
     "name": "stdout",
     "output_type": "stream",
     "text": [
      "Embedding time for 5535 chunks: 1378.55 seconds\n"
     ]
    }
   ],
   "source": [
    "list_of_strings = [doc.page_content for doc in chunks if hasattr(doc, 'page_content')]\n",
    "\n",
    "# Embedding inference using the Milvus built-in sparse-dense-reranking encoder.\n",
    "start_time = time.time()\n",
    "embeddings = embedding_model(list_of_strings)\n",
    "end_time = time.time()\n",
    "\n",
    "print(f\"Embedding time for {len(list_of_strings)} chunks: \", end=\"\")\n",
    "print(f\"{np.round(end_time - start_time, 2)} seconds\")"
   ]
  },
  {
   "cell_type": "code",
   "execution_count": 43,
   "id": "8f2fc8af-8127-4d84-9040-727d8ba4fe69",
   "metadata": {},
   "outputs": [
    {
     "name": "stdout",
     "output_type": "stream",
     "text": [
      "5535\n",
      "<class 'dict'> 3\n",
      "{'chunk': 'news: CNN Russian President Vladimir Putin has replaced his defense '\n",
      "          'minister and close ally Sergei Shoigu with a civilian economist, a '\n",
      "          'major reshuffle of military leadership more than twoyears after '\n",
      "          'Moscows grinding war against Ukraine has sent defense spending '\n",
      "          'soaring. Andrey Belousov, a civilian',\n",
      " 'dense_vector': array([-0.04367027, -0.02070321, -0.03113122, ...,  0.00263912,\n",
      "       -0.01077201, -0.03370891], dtype=float32),\n",
      " 'news': 'CNN Russian President Vladimir Putin has replaced his defense '\n",
      "         'minister and close ally Sergei Shoigu with a civilian economist, a '\n",
      "         'major reshuffle of military leadership more than twoyears after '\n",
      "         'Moscows grinding war against Ukraine has sent defense spending '\n",
      "         'soaring. Andrey Belousov, a civilian who served as former first '\n",
      "         'deputy prime minister and specializes in economics, was appointed to '\n",
      "         'the top defense post, Kremlin spokesperson Dmitry Peskov said on '\n",
      "         'Sunday. Shoigu was relieved of his position by presidential decree, '\n",
      "         'Peskov said, but he will remain an influential part of Putins '\n",
      "         'administration as Secretary of Russias Security Council, replacing '\n",
      "         'former FSB head Nikolai Patrushev, who would transfer to another '\n",
      "         'job. Shoigu will also become deputy in Russias MilitaryIndustrial '\n",
      "         'Commission, Peskov said, as Putin embarks on a fifth term as '\n",
      "         'president. The shakeup comes as Russia launched its most serious '\n",
      "         'crossborder ground assault since Ukraine recaptured the northern '\n",
      "         'Kharkiv region in the late summer of 2022. It also comes after '\n",
      "         'several months of increased Russian air attacks on the city of '\n",
      "         'Kharkiv and amid a grinding advance in Donetsk in the east that has '\n",
      "         'seen incremental but significant progress. Shoigu had helmed the '\n",
      "         'countrys defense ministry for 12 years and led the invasion of '\n",
      "         'Ukraine in 2022. Russian troops initially caught Kyiv by surprise '\n",
      "         'but were soon beaten back, exposing the weaknesses of Moscows '\n",
      "         'corruptionriddled military and its willingness to send waves of '\n",
      "         'poorly trained and equipped soldiers into what Ukraine and Russian '\n",
      "         'troops have both dubbed a meat grinder. His critics have frequently '\n",
      "         'described Shoigu as remote and outoftouch with the realities of the '\n",
      "         'conflict. His most forceful critic was the late Wagner chief Yevgeny '\n",
      "         'Prigozhin who accused the Defense Ministry of starving his fighters '\n",
      "         'of resources and bureaucratic incompetence before launching an '\n",
      "         'unsuccessful mutiny last year and dying weeks later in a plane '\n",
      "         'crash. Rising military spending and need for innovation Belousov was '\n",
      "         'selected by Putin because of a need for innovation, Peskov said in a '\n",
      "         'press call, during which he highlighted the ministrys rising budget, '\n",
      "         'saying it was approaching levels last seen during the Cold War. '\n",
      "         'Today on the battlefield, the winner is the one who is more open to '\n",
      "         'innovation, Peskov said. Therefore, it is natural that at the '\n",
      "         'current stage, the president decided that the Russian Ministry of '\n",
      "         'Defense should be headed by a civilian. In a reference to the war in '\n",
      "         'Ukraine, Peskov said that due to wellknown geopolitical '\n",
      "         'circumstances, we are gradually approaching the situation of the '\n",
      "         'mid80s when the share of expenses for the security bloc in the '\n",
      "         'economy was 7.4. Its not critical, but its extremely important, '\n",
      "         'Peskov said. The budget currently amounts to 6.7 of GDP, he said. '\n",
      "         'Peskov highlighted Belousovs previous leadership experience and '\n",
      "         'economic background. This is not just a civilian, but a person who '\n",
      "         'very successfully headed the Ministry of Economic Development of '\n",
      "         'Russia, for a long time he was aide to the president on economic '\n",
      "         'issues, and was also the first deputy chairman of the government in '\n",
      "         'the previous cabinet of ministers, Peskov said. Peskov added that '\n",
      "         'the new appointment did not signal a shift in Russias current '\n",
      "         'military system. As for the military component, this appointment '\n",
      "         'will in no way change the current coordinate systems. The military '\n",
      "         'component has always been the prerogative of the Chief of the '\n",
      "         'General Staff Valery Gerasimov, and he will continue his activities. '\n",
      "         'No changes are currently envisaged in this regard, he said. In his '\n",
      "         'new role, Shoigu will oversee Russias military industrial complex, '\n",
      "         'Peskov said. He is deeply immersed in this work, he knows very well '\n",
      "         'the pace of production of militaryindustrial products at specific '\n",
      "         'enterprises and often visits these enterprises, he said. The news '\n",
      "         'follows the arrest last month of one of Shoigus close allies, deputy '\n",
      "         'defense minister Timur Ivanov, who was charged with taking a bribe '\n",
      "         'in what was the countrys highestprofile corruption scandal since '\n",
      "         'Putin launched his invasion of Ukraine more than two years ago. '\n",
      "         'Ivanov has been accused of accepting a bribe of 1 million rubles at '\n",
      "         'least 10,800, according to Russian state media TASS. Former US '\n",
      "         'Secretary of Defense Mark Esper told CNN in an interview Sunday that '\n",
      "         'Putins reshuffle is an important and interesting move. The bigger '\n",
      "         'argument coming out of Moscow right now is that Russia is moving '\n",
      "         'toward a war economy, he said. Theyre on a war footing. Esper said '\n",
      "         'that one of the disappointing things about Shoigus tenure is we '\n",
      "         'thought the Russian army, at least during my time at the Pentagon, '\n",
      "         'we thought they were professionalizing, that they were modernizing '\n",
      "         'all their equipment, their doctrine, how they train and fight, and '\n",
      "         'we really havent seen that on the battlefield. This is a developing '\n",
      "         'story and will be updated.'}\n"
     ]
    }
   ],
   "source": [
    "dict_list = []\n",
    "for chunk, dense in zip(chunks, embeddings[\"dense\"]):\n",
    "    # Assemble embedding vector, original text chunk, metadata.\n",
    "    chunk_dict = {\n",
    "        'chunk': chunk.page_content,\n",
    "        'news': chunk.metadata.get('source', \"\"),\n",
    "        'dense_vector': dense\n",
    "    }\n",
    "    dict_list.append(chunk_dict)\n",
    "\n",
    "# TODO - Uncomment to inspect the first chunk and its metadata.\n",
    "print(len(dict_list))\n",
    "print(type(dict_list[0]), len(dict_list[0]))\n",
    "pprint.pprint(dict_list[0])"
   ]
  },
  {
   "cell_type": "code",
   "execution_count": 44,
   "id": "448d7b57-64ab-4a5c-87a0-56ce1637d15f",
   "metadata": {},
   "outputs": [
    {
     "name": "stdout",
     "output_type": "stream",
     "text": [
      "Start inserting entities\n",
      "Milvus insert time for 5535 vectors: 11.9 seconds\n"
     ]
    }
   ],
   "source": [
    "# Insert data into the Milvus collection.\n",
    "print(\"Start inserting entities\")\n",
    "start_time = time.time()\n",
    "col.insert(dict_list)\n",
    "\n",
    "end_time = time.time()\n",
    "print(f\"Milvus insert time for {len(dict_list)} vectors: \", end=\"\")\n",
    "print(f\"{np.round(end_time - start_time, 2)} seconds\")\n",
    "col.flush()"
   ]
  },
  {
   "cell_type": "code",
   "execution_count": null,
   "id": "1eb80e3e-1128-4214-b2c6-d94e4b511ba5",
   "metadata": {},
   "outputs": [],
   "source": []
  }
 ],
 "metadata": {
  "kernelspec": {
   "display_name": "Python 3 (ipykernel)",
   "language": "python",
   "name": "python3"
  },
  "language_info": {
   "codemirror_mode": {
    "name": "ipython",
    "version": 3
   },
   "file_extension": ".py",
   "mimetype": "text/x-python",
   "name": "python",
   "nbconvert_exporter": "python",
   "pygments_lexer": "ipython3",
   "version": "3.9.6"
  }
 },
 "nbformat": 4,
 "nbformat_minor": 5
}
